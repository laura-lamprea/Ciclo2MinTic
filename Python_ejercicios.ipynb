{
  "nbformat": 4,
  "nbformat_minor": 0,
  "metadata": {
    "colab": {
      "name": "Python_ejercicios.ipynb",
      "provenance": [],
      "collapsed_sections": [],
      "include_colab_link": true
    },
    "kernelspec": {
      "name": "python3",
      "display_name": "Python 3"
    },
    "accelerator": "TPU"
  },
  "cells": [
    {
      "cell_type": "markdown",
      "metadata": {
        "id": "view-in-github",
        "colab_type": "text"
      },
      "source": [
        "<a href=\"https://colab.research.google.com/github/laura-lamprea/Ciclo2MinTic/blob/main/Python_ejercicios.ipynb\" target=\"_parent\"><img src=\"https://colab.research.google.com/assets/colab-badge.svg\" alt=\"Open In Colab\"/></a>"
      ]
    },
    {
      "cell_type": "markdown",
      "metadata": {
        "id": "_HJh5NO-RmYN"
      },
      "source": [
        "# Imprimir\n"
      ]
    },
    {
      "cell_type": "code",
      "metadata": {
        "id": "szgPsnziRsWd"
      },
      "source": [
        "print(\"Hola\")\n",
        "prit(\"HOla\",\"como\",\"esta\", sep=\",\")  \n"
      ],
      "execution_count": null,
      "outputs": []
    },
    {
      "cell_type": "code",
      "metadata": {
        "colab": {
          "base_uri": "https://localhost:8080/"
        },
        "id": "cwnP_HLMSdHO",
        "outputId": "6aee8848-3870-4a5c-8ec6-c1b5ca140550"
      },
      "source": [
        "a=20\n",
        "print(f\"el numero es {a} fue digitado\\n y es numero\")"
      ],
      "execution_count": null,
      "outputs": [
        {
          "output_type": "stream",
          "text": [
            "el numero es 20 fue digitado\n",
            " y es numero\n"
          ],
          "name": "stdout"
        }
      ]
    },
    {
      "cell_type": "code",
      "metadata": {
        "colab": {
          "base_uri": "https://localhost:8080/"
        },
        "id": "8KT8AcurSiD-",
        "outputId": "ce5c3164-34f9-41a2-f125-24fe820af98f"
      },
      "source": [
        "a=input()\n",
        "print(\"el numero digitado fué:\", a)"
      ],
      "execution_count": null,
      "outputs": [
        {
          "output_type": "stream",
          "text": [
            "200\n",
            "el numero digitado fué: 200\n"
          ],
          "name": "stdout"
        }
      ]
    },
    {
      "cell_type": "code",
      "metadata": {
        "colab": {
          "base_uri": "https://localhost:8080/"
        },
        "id": "DobrGJGSS1L-",
        "outputId": "0cacd963-853e-4617-ef3d-89a638086ed0"
      },
      "source": [
        "a=input(\"digite un numero\")\n",
        "print(\"el numero digitado fué:\", a)"
      ],
      "execution_count": null,
      "outputs": [
        {
          "output_type": "stream",
          "text": [
            "digite un numero4526\n",
            "el numero digitado fué: 4526\n"
          ],
          "name": "stdout"
        }
      ]
    },
    {
      "cell_type": "code",
      "metadata": {
        "colab": {
          "base_uri": "https://localhost:8080/"
        },
        "id": "ZkDA4XTfTY2t",
        "outputId": "6917d63d-5351-4e0b-b91d-6fdae8a7ddf8"
      },
      "source": [
        "a=int(input(\"digite un numero\"))\n",
        "r=a*a\n",
        "print(\"el numero digitado fué:\", a)"
      ],
      "execution_count": null,
      "outputs": [
        {
          "output_type": "stream",
          "text": [
            "digite un numero2\n",
            "el numero digitado fué: 2\n"
          ],
          "name": "stdout"
        }
      ]
    },
    {
      "cell_type": "code",
      "metadata": {
        "id": "JtLbG38mznW4"
      },
      "source": [
        "a = 5\n",
        "b = 7 \n",
        "c = 2\n",
        "d = 9"
      ],
      "execution_count": null,
      "outputs": []
    },
    {
      "cell_type": "code",
      "metadata": {
        "colab": {
          "base_uri": "https://localhost:8080/"
        },
        "id": "ycP8kM5by4Za",
        "outputId": "fb13801d-4501-456c-e1eb-aa924bb9c486"
      },
      "source": [
        "b = input(\"entre un número \")\n",
        "c = input(\"entre otro número \")\n",
        "a = int(input(\"entre un tercer número \"))\n",
        "d = int(input(\"entre un cuarto número \"))\n",
        "print(b+c, end=\"\")\n",
        "print(a+d)"
      ],
      "execution_count": null,
      "outputs": [
        {
          "output_type": "stream",
          "text": [
            "entre un número 7\n",
            "entre otro número 2\n",
            "entre un tercer número 5\n",
            "entre un cuarto número 9\n",
            "7214\n"
          ],
          "name": "stdout"
        }
      ]
    },
    {
      "cell_type": "code",
      "metadata": {
        "id": "_rl4uhpY3v4R"
      },
      "source": [
        "a=float(input(\"Primer numero: \"))\n",
        "b=float(input(\"Segundo numero: \"))\n",
        "#print(a,b,sep=\" or \")\n",
        "print(a,\"or\",b)"
      ],
      "execution_count": null,
      "outputs": []
    },
    {
      "cell_type": "markdown",
      "metadata": {
        "id": "kzbuajeJVA1U"
      },
      "source": [
        "# Condicionales"
      ]
    },
    {
      "cell_type": "code",
      "metadata": {
        "colab": {
          "base_uri": "https://localhost:8080/"
        },
        "id": "9a5NrR4SVEAz",
        "outputId": "b61e7c45-ef44-469a-eaa0-47b0eda8ffe2"
      },
      "source": [
        "a=9\n",
        "b=7\n",
        "if a>b:\n",
        "  print(\"mayor\",a)"
      ],
      "execution_count": null,
      "outputs": [
        {
          "output_type": "stream",
          "text": [
            "mayor 9\n"
          ],
          "name": "stdout"
        }
      ]
    },
    {
      "cell_type": "markdown",
      "metadata": {
        "id": "0OTa1Vw57OBZ"
      },
      "source": [
        "# Ciclos\n",
        "\n",
        "\n"
      ]
    },
    {
      "cell_type": "code",
      "metadata": {
        "id": "YuEoeX1Ld2LP",
        "colab": {
          "base_uri": "https://localhost:8080/"
        },
        "outputId": "29769100-befa-42c6-cafa-330da93f17e2"
      },
      "source": [
        "for i in range (10): #inicio=0, fin<10 increm 1\n",
        "  print(i,\"hola\")\n",
        "\n",
        "for i in range (1, 10): #inicio=1, fin<=10 increm 1\n",
        "  print(i,\"hola\")\n",
        "  \n",
        "for i in range (1, 10, 1): #inicio=1, fin<=10 increm 1\n",
        "  print(i,\"hola\")\n",
        "\n",
        "for i in range(10, 0, -1):\n",
        "\tprint(i)\n"
      ],
      "execution_count": null,
      "outputs": [
        {
          "output_type": "stream",
          "text": [
            "0 hola\n",
            "1 hola\n",
            "2 hola\n",
            "3 hola\n",
            "4 hola\n",
            "5 hola\n",
            "6 hola\n",
            "7 hola\n",
            "8 hola\n",
            "9 hola\n",
            "1 hola\n",
            "2 hola\n",
            "3 hola\n",
            "4 hola\n",
            "5 hola\n",
            "6 hola\n",
            "7 hola\n",
            "8 hola\n",
            "9 hola\n",
            "1 hola\n",
            "2 hola\n",
            "3 hola\n",
            "4 hola\n",
            "5 hola\n",
            "6 hola\n",
            "7 hola\n",
            "8 hola\n",
            "9 hola\n",
            "10\n",
            "9\n",
            "8\n",
            "7\n",
            "6\n",
            "5\n",
            "4\n",
            "3\n",
            "2\n",
            "1\n"
          ],
          "name": "stdout"
        }
      ]
    },
    {
      "cell_type": "code",
      "metadata": {
        "id": "tP6I6yYs2sq_",
        "colab": {
          "base_uri": "https://localhost:8080/"
        },
        "outputId": "36c5e8b8-5781-4c31-de10-f42d08b9d917"
      },
      "source": [
        "for i in range(1, 6):\n",
        "    if i == 3:\n",
        "        break\n",
        "    print(i)"
      ],
      "execution_count": null,
      "outputs": [
        {
          "output_type": "stream",
          "text": [
            "1\n",
            "2\n"
          ],
          "name": "stdout"
        }
      ]
    },
    {
      "cell_type": "markdown",
      "metadata": {
        "id": "LDV8oLIL0ZPy"
      },
      "source": [
        "Iterar sobre una lista"
      ]
    },
    {
      "cell_type": "code",
      "metadata": {
        "colab": {
          "base_uri": "https://localhost:8080/"
        },
        "id": "5QG276T2t0DF",
        "outputId": "e78c4318-d956-4f7a-82fc-bc22f25eccdc"
      },
      "source": [
        "numeros = [0, 1, 2, 3, 4, 5]\n",
        "for numero in numeros:\n",
        "  print (numero)"
      ],
      "execution_count": null,
      "outputs": [
        {
          "output_type": "stream",
          "text": [
            "0\n",
            "1\n",
            "2\n",
            "3\n",
            "4\n",
            "5\n"
          ],
          "name": "stdout"
        }
      ]
    },
    {
      "cell_type": "markdown",
      "metadata": {
        "id": "_EL8Ydyy0exz"
      },
      "source": [
        "Iterar en diccionario\n"
      ]
    },
    {
      "cell_type": "code",
      "metadata": {
        "colab": {
          "base_uri": "https://localhost:8080/"
        },
        "id": "5YyBu3lbqfYa",
        "outputId": "b42ce8e7-c98c-447a-9f95-0acf4e481f7d"
      },
      "source": [
        "diccionario = {'nombre' : 'Carlos', 'edad' : 22, 'cursos': ['Python','Django','JavaScript']}\n",
        "print(diccionario['nombre']) #Carlos\n",
        "print(diccionario['edad'])#22\n",
        "print(diccionario['cursos']) #['Python','Django','JavaScript']"
      ],
      "execution_count": null,
      "outputs": [
        {
          "output_type": "stream",
          "text": [
            "Carlos\n",
            "22\n",
            "['Python', 'Django', 'JavaScript']\n"
          ],
          "name": "stdout"
        }
      ]
    },
    {
      "cell_type": "code",
      "metadata": {
        "colab": {
          "base_uri": "https://localhost:8080/"
        },
        "id": "D_JbO7Wi0hnA",
        "outputId": "f25120be-0ed5-4cf3-b872-932b65cd6b5e"
      },
      "source": [
        "frutas = {'Fresa':'roja', 'Limon':'verde', 'Papaya':'naranja', 'Manzana':'amarilla', 'Guayaba':'rosa'}\n",
        "#for nombre, color in frutas.items():\n",
        "  #print (nombre, \"es de color\", color)\n",
        "for llave in frutas:\n",
        "  print (llave, 'es de color', frutas[llave])\n"
      ],
      "execution_count": null,
      "outputs": [
        {
          "output_type": "stream",
          "text": [
            "Fresa es de color roja\n",
            "Limon es de color verde\n",
            "Papaya es de color naranja\n",
            "Manzana es de color amarilla\n",
            "Guayaba es de color rosa\n"
          ],
          "name": "stdout"
        }
      ]
    },
    {
      "cell_type": "code",
      "metadata": {
        "id": "9BFA1QYvVunt"
      },
      "source": [
        "\"\"\"Crear diccionario\"\"\"\n",
        "\n",
        "# dicc={} #diccionario vacio\n",
        "dicc={\"she\":\"ella\",\n",
        "      \"he\":\"el\",\n",
        "      \"we\":\"nosotros\",\n",
        "      \"they\":\"ellos\"\n",
        "\n",
        "      }   #diccionario con clave y valor\n",
        "\n",
        "\n",
        "\"\"\"Acceder a elementos del diccionario. Se hace por su clave\"\"\"\n",
        "# print(dicc[\"otro\"]) #accediendo a un elemento del diccionario con clave \"she\". Distingue Mayusculas y minusculas\n",
        "# print(dicc.get(\"otro\"))\n",
        "# print(dicc)\n",
        "\n",
        "\n",
        "\"\"\"Asignando valores\"\"\"\n",
        "# dicc[\"he\"]=\"el\" #agrego otro elemento clave-valor\n",
        "#\n",
        "# dicc[\"we\"]=\"osotros\"  #creo otra clave-valor\n",
        "#\n",
        "# dicc[\"we\"]=\"nosotros\" #modifico una clave-valor\n",
        "#\n",
        "# n=dicc[\"we\"]  #asignando a n, el contenido de una clave-valor\n",
        "# print(dicc)\n",
        "# # print(n)\n",
        "\n",
        "#\n",
        "# #Analizar la siguiente instrucción. Las claves son únicas y distingue Mayúsculas y minúsculas. they != They\n",
        "# dicc[\"they\"]=\"ellos\"\n",
        "# dicc[\"They\"]=\"ellos con otra clave\"\n",
        "\n",
        "\n",
        "\"\"\"Recorrer diccionarios\"\"\"\n",
        "#mostrar solo claves\n",
        "# for i in dicc:\n",
        "#       print(i, dicc[i])\n",
        "\n",
        "\n",
        "#mostrar solo los valores. Se usa get(clave)\n",
        "#se recomienda usar get(clave)  ya que si no encuentra el valor devuelbe None.\n",
        "# for i in dicc:\n",
        "#       print(dicc.get(i))\n",
        "\n",
        "#mostrar clave y valor\n",
        "# for i in dicc:\n",
        "#     print(f\"Clave:{i} - Valor: {dicc.get(i)}\")\n",
        "\n",
        "#otra forma de mostra clave y valor\n",
        "# for i,k in dicc.items():\n",
        "#       print(i,k)\n",
        "\n",
        "\n",
        "\"\"\"Eliminar una clave - valor\"\"\"\n",
        "\n",
        "# print(dicc)\n",
        "# dicc.pop(\"They\")\n",
        "# del dicc[\"They\"]\n",
        "#\n",
        "# print(dicc)\n",
        "\n",
        "\n",
        "\"\"\"\"aumentar valor\"\"\"\n",
        "\n",
        "dicc[\"cantidad\"]=1\n",
        "# print(dicc[\"cantidad\"])\n",
        "dicc[\"cantidad\"]+=10\n",
        "print(dicc[\"cantidad\"])\n",
        "\n",
        "\"\"\"------OTROS MÉTODOS----------------\"\"\"\n",
        "\n",
        "\"\"\"obtengo la longitud del diccionario o cantidad de elementos\"\"\"\n",
        "# ld=len(dicc)\n",
        "# # print(\"El total de palabras es: \", ld)\n",
        "# print(dicc)\n",
        "\n",
        "\n",
        "\"\"\"obtengo todas las claves\"\"\"\n",
        "# print(dicc.keys())\n",
        "\n",
        "# ls=dicc.keys()\n",
        "# for i in ls:\n",
        "#      print(i)\n",
        "\n",
        "# print(type(ls))\n",
        "\n",
        "\n",
        "\"\"\"obtengo todos los valores\"\"\"\n",
        "# print(dicc.values())\n",
        "# lv=dicc.values()\n",
        "#\n",
        "# for i in lv:\n",
        "#     print(i)\n",
        "\n",
        "\"\"\"obtengo claves y valores\"\"\"\n",
        "# print(dicc.items())\n",
        "#\n",
        "# lit=dicc.items()\n",
        "# for i in lit:\n",
        "#     print(i)\n",
        "\n",
        "\n",
        "\"\"\"fusionando diccionarios\"\"\"\n",
        "# d1={\"a\":1, \"b\":1}\n",
        "# d2={\"b\":8,\"c\":3}\n",
        "# d1.update(d2)\n",
        "# print(d1)\n",
        "# print(d2)\n",
        "\n",
        "\"\"\"copiando diccionarios\"\"\"\n",
        "# d1={\"a\":10}\n",
        "# d2=d1.copy()\n",
        "#\n",
        "# print(d2)\n",
        "\n",
        "\n",
        "\"\"\"comprobar si existe una clave\"\"\"\n",
        "#si no encuentra la clave devuelbe None\n",
        "# d1={\"a\":0,\"b\":1}\n",
        "# if(d1.get(\"a\")!=None):\n",
        "#     print(\"Existe\")\n",
        "# else:\n",
        "#     print(\"No existe\")\n",
        "\n",
        "\n",
        "# d1={\"a\":0,\"b\":1}\n",
        "\n",
        "\"\"\"Dicionarios anidados\"\"\"\n",
        "d1={\"a\":1,\"b\":2}\n",
        "d2={\"c\":2,\"d\":3}\n",
        "#\n",
        "d3={\"anidado1\":d1,\n",
        "    \"anidado2\":d2\n",
        "    }\n",
        "#\n",
        "# print(d3)\n",
        "# # print(d3[\"anidado1\"])\n",
        "# # print(d3[\"anidado1\"][\"a\"])\n",
        "#\n",
        "# for i in d3:\n",
        "#       # print(i,d3[i])\n",
        "#       for k in d3[i]:\n",
        "#             print(k,d3[i][k],sep=\"-\")\n",
        "#       print()\n",
        "\n",
        "\"\"\"convertir 2 listas en un diccionario\"\"\"\n",
        "# ls1=[\"producto\",\"cantidad\"]\n",
        "# ls2=[\"manzanas\",8]\n",
        "# dicc=dict(zip(ls1,ls2))\n",
        "# print(dicc)\n",
        "# print(type(dicc))\n"
      ],
      "execution_count": null,
      "outputs": []
    },
    {
      "cell_type": "code",
      "metadata": {
        "id": "vf-OzssrfKyO",
        "colab": {
          "base_uri": "https://localhost:8080/",
          "height": 85
        },
        "outputId": "cefb9447-1de7-4c47-ca8c-7f2cc2ea7f49"
      },
      "source": [
        "palabra = \"test\"\n",
        "#print(palabra)\n",
        "\n",
        "tam=len(palabra) #len saca cuantos elmenteos tiene en una cadena de caracteres\n",
        "#print (tam)\n",
        "for i in range (tam):\n",
        "  print(palabra[i])  #len saca cuantos elemeteos tiene en una cadena de caracteres\n"
      ],
      "execution_count": null,
      "outputs": [
        {
          "output_type": "stream",
          "text": [
            "t\n",
            "e\n",
            "s\n",
            "t\n"
          ],
          "name": "stdout"
        }
      ]
    },
    {
      "cell_type": "code",
      "metadata": {
        "id": "hw4TkTn-gg2y",
        "colab": {
          "base_uri": "https://localhost:8080/"
        },
        "outputId": "c28cda58-1482-4a5c-aabe-7a4b94dfb0a1"
      },
      "source": [
        "numero=12345\n",
        "\n",
        "#12345 % 10 =5\n",
        "#12345 // 10 =1234\n",
        "\n",
        "#1234 % 10 = 4\n",
        "#1234 // 10 =123\n",
        "\n",
        "#123 % 10 = 3\n",
        "#123 // 10 =12\n",
        "\n",
        "#12 % 10 = 2\n",
        "#12 // 10 = 1\n",
        "\n",
        "#1 % 10 = 1\n",
        "#1 // 10 = 0\n",
        "\n",
        "while numero>0:\n",
        "  digito = numero % 10\n",
        "  numero=numero //10 #division entera\n",
        "  print (digito)"
      ],
      "execution_count": null,
      "outputs": [
        {
          "output_type": "stream",
          "text": [
            "5\n",
            "4\n",
            "3\n",
            "2\n",
            "1\n"
          ],
          "name": "stdout"
        }
      ]
    },
    {
      "cell_type": "code",
      "metadata": {
        "id": "15r-BplykloN",
        "colab": {
          "base_uri": "https://localhost:8080/",
          "height": 136
        },
        "outputId": "36bd5961-6975-4b7d-ae8b-c22cc6d0d46d"
      },
      "source": [
        "N=int(input(\"Digite cuanto digitos desea ingresar:\"))\n",
        "cont=0\n",
        "sum=0\n",
        "for i in range(N):\n",
        "  num=int(input(\"Digite el numero\"))\n",
        "  esTres=False\n",
        "  copiaNum= num\n",
        "  while num>0 and  esTres ==False:\n",
        "    digito=num % 10\n",
        "    if digito==3:\n",
        "      esTres=True\n",
        "    else:\n",
        "      num=num//10\n",
        "  if esTres==True:\n",
        "    cont+=1\n",
        "  else:\n",
        "    sum+=copiaNum\n",
        "\n",
        "\n",
        "print(cont, \"numero contienen el 3\")\n",
        "print(\"la suma de los que no contiene el 3 es:\", sum)"
      ],
      "execution_count": null,
      "outputs": [
        {
          "output_type": "stream",
          "text": [
            "Digite cuanto digitos desea ingresar:4\n",
            "Digite el numero12\n",
            "Digite el numero35\n",
            "Digite el numero78\n",
            "Digite el numero38\n",
            "2 numero contienen el 3\n",
            "la suma de los que no contiene el 3 es: 90\n"
          ],
          "name": "stdout"
        }
      ]
    },
    {
      "cell_type": "code",
      "metadata": {
        "id": "P6WaI_PvRj43",
        "colab": {
          "base_uri": "https://localhost:8080/"
        },
        "outputId": "0ded634f-0a2e-4f8f-f2a4-ae0e97d7ba3b"
      },
      "source": [
        "x=int(input(\"numero entero: \"))\n",
        "i=2\n",
        "while i<=x**(.5) and x%i!=0:\n",
        "  i=i+1\n",
        "if i>x**(.5):\n",
        "  print(x,\"es primo\")\n",
        "else:\n",
        "  print(x, \"no es primo, es divisible por: \",i)"
      ],
      "execution_count": null,
      "outputs": [
        {
          "output_type": "stream",
          "text": [
            "numero entero: 7\n",
            "7 es primo\n"
          ],
          "name": "stdout"
        }
      ]
    },
    {
      "cell_type": "code",
      "metadata": {
        "colab": {
          "base_uri": "https://localhost:8080/"
        },
        "id": "NhS0jIGc1GIs",
        "outputId": "cdbc4606-ec89-434f-ae9d-b4a489e8f58f"
      },
      "source": [
        "numero = 0\n",
        "while numero <= 10:\n",
        "    print (numero)\n",
        "    numero += 1"
      ],
      "execution_count": null,
      "outputs": [
        {
          "output_type": "stream",
          "text": [
            "0\n",
            "1\n",
            "2\n",
            "3\n",
            "4\n",
            "5\n",
            "6\n",
            "7\n",
            "8\n",
            "9\n",
            "10\n"
          ],
          "name": "stdout"
        }
      ]
    },
    {
      "cell_type": "code",
      "metadata": {
        "id": "FAc3NOZI1f0X"
      },
      "source": [
        "while True:\n",
        "  entrada = raw_input('Escribe tu nombre: ')\n",
        "  if not entrada: break"
      ],
      "execution_count": null,
      "outputs": []
    },
    {
      "cell_type": "code",
      "metadata": {
        "colab": {
          "base_uri": "https://localhost:8080/"
        },
        "id": "MsK7zyyzJOFp",
        "outputId": "e802b2cb-c9f2-428a-d388-41e62747e4c6"
      },
      "source": [
        "clave=\"\"\n",
        "while (clave!=\"123\"):\n",
        "  clave=input(\"Digitar clave: \")"
      ],
      "execution_count": null,
      "outputs": [
        {
          "output_type": "stream",
          "text": [
            "Digitar clave: 12\n",
            "Digitar clave: 15\n",
            "Digitar clave: 56\n",
            "Digitar clave: 123\n"
          ],
          "name": "stdout"
        }
      ]
    },
    {
      "cell_type": "code",
      "metadata": {
        "colab": {
          "base_uri": "https://localhost:8080/"
        },
        "id": "YoLbpGyTBl9Z",
        "outputId": "1d07e257-b264-4410-cb8f-8fcf793f22af"
      },
      "source": [
        "bandera=False\n",
        "for i in range(1,4):\n",
        "  clave=input(\"clave: \")\n",
        "  if(clave==\"123\"):\n",
        "    bandera=True\n",
        "    break\n",
        "if (bandera==True):\n",
        "  print(\"Acceso autorizado\")\n",
        "else:\n",
        "  print(\"Cuenta bloqueado\")"
      ],
      "execution_count": null,
      "outputs": [
        {
          "output_type": "stream",
          "text": [
            "clave: 125\n",
            "clave: 48888\n",
            "clave: 8888\n",
            "Cuenta bloqueado\n"
          ],
          "name": "stdout"
        }
      ]
    },
    {
      "cell_type": "code",
      "metadata": {
        "colab": {
          "base_uri": "https://localhost:8080/"
        },
        "id": "W5MerGw7CXbe",
        "outputId": "c19d8fe4-2175-4d89-bf23-58b97f2a1b25"
      },
      "source": [
        "bandera=False\n",
        "for i in range(1,8):\n",
        "  if (i==5):\n",
        "    continue #salta un ciclo\n",
        "  print(i)\n"
      ],
      "execution_count": null,
      "outputs": [
        {
          "output_type": "stream",
          "text": [
            "1\n",
            "2\n",
            "3\n",
            "4\n",
            "6\n",
            "7\n"
          ],
          "name": "stdout"
        }
      ]
    },
    {
      "cell_type": "markdown",
      "metadata": {
        "id": "VfHZO6BXrw9n"
      },
      "source": [
        "#Funciones"
      ]
    },
    {
      "cell_type": "code",
      "metadata": {
        "colab": {
          "base_uri": "https://localhost:8080/"
        },
        "id": "8rp6snJWEonq",
        "outputId": "10aa08ac-ccf7-41aa-b497-171a22969853"
      },
      "source": [
        "def mensaje():\n",
        "  print(\"Hola\")\n",
        "mensaje()\n",
        "\n",
        "def mensaje(b):\n",
        "  print(b)\n",
        "a=90\n",
        "mensaje(a)\n",
        "\n",
        "def mensaje(b):\n",
        "  r=b+b\n",
        "  return r\n",
        "a=90\n",
        "mensaje(a) \n"
      ],
      "execution_count": null,
      "outputs": [
        {
          "output_type": "stream",
          "text": [
            "Hola\n",
            "90\n"
          ],
          "name": "stdout"
        },
        {
          "output_type": "execute_result",
          "data": {
            "text/plain": [
              "180"
            ]
          },
          "metadata": {
            "tags": []
          },
          "execution_count": 13
        }
      ]
    },
    {
      "cell_type": "code",
      "metadata": {
        "id": "AFHNvLyqr0ka",
        "colab": {
          "base_uri": "https://localhost:8080/",
          "height": 34
        },
        "outputId": "69c6bf87-9e5a-42ea-b5a4-70d9e5328a53"
      },
      "source": [
        "def suma (a,b):\n",
        "  operacion=a+b\n",
        "  return operacion\n",
        "\n",
        "valor=suma (4,3) #recibe 2 parametros\n",
        "print(valor+1)"
      ],
      "execution_count": null,
      "outputs": [
        {
          "output_type": "stream",
          "text": [
            "8\n"
          ],
          "name": "stdout"
        }
      ]
    },
    {
      "cell_type": "code",
      "metadata": {
        "id": "G8WsZR7WucZn",
        "colab": {
          "base_uri": "https://localhost:8080/",
          "height": 34
        },
        "outputId": "0c4a40ec-ce95-479d-88c7-703940c7a0e4"
      },
      "source": [
        "def suma (a,b):\n",
        "  suma=a+b\n",
        "  print(suma)\n",
        "\n",
        "suma (4,3) #recibe 2 parametros"
      ],
      "execution_count": null,
      "outputs": [
        {
          "output_type": "stream",
          "text": [
            "7\n"
          ],
          "name": "stdout"
        }
      ]
    },
    {
      "cell_type": "code",
      "metadata": {
        "colab": {
          "base_uri": "https://localhost:8080/"
        },
        "id": "yiDLvqMKH6HC",
        "outputId": "4259b793-b507-4938-9bb9-a6409d0f7abb"
      },
      "source": [
        "def par (x):\n",
        "  if (x%2==0):\n",
        "    b=True\n",
        "  else:\n",
        "    b=False\n",
        "  return b\n",
        "par (7) \n",
        "\n",
        "def varios(a,b):\n",
        "  sum=a+b\n",
        "  res=a-b\n",
        "  mul=a*b\n",
        "  div=a/b\n",
        "  return sum,res,mul,div\n",
        "(a,b,c,d)=varios(4,2)\n",
        "print(a,b,c,d)"
      ],
      "execution_count": null,
      "outputs": [
        {
          "output_type": "stream",
          "text": [
            "6 2 8 2.0\n"
          ],
          "name": "stdout"
        }
      ]
    },
    {
      "cell_type": "code",
      "metadata": {
        "colab": {
          "base_uri": "https://localhost:8080/"
        },
        "id": "dKDqs6-HKhWA",
        "outputId": "4b65985b-0164-4ec2-aece-45411a853725"
      },
      "source": [
        "# Ejercicios en clase\n",
        "\n",
        "def cubo(a):\n",
        "  c=a**3\n",
        "  return c\n",
        "cubo(2)\n",
        "\n",
        "def incremento(a):\n",
        "  inc=a+a*0.1\n",
        "  return inc\n",
        "incremento(100)\n",
        "\n",
        "def promedio(a,b,c):\n",
        "  p=(a+b+c)/3\n",
        "  return p\n",
        "promedio(2,4,3)\n",
        "\n",
        "def bool(a):\n",
        "  if a>=0:\n",
        "    return True\n",
        "  else:\n",
        "    return False\n",
        "bool(-2)\n",
        "\n",
        "def MayorE(a):\n",
        "  if a>=18:\n",
        "    return True\n",
        "  else:\n",
        "    return False\n",
        "MayorE(17)\n",
        "\n",
        "def bisiesto(a):\n",
        "  if(a%4==0 and a%100!=0) or a%400==0:\n",
        "    return True\n",
        "  else:\n",
        "    return False\n",
        "\n",
        "bisiesto(2001)\n"
      ],
      "execution_count": null,
      "outputs": [
        {
          "output_type": "execute_result",
          "data": {
            "text/plain": [
              "False"
            ]
          },
          "metadata": {
            "tags": []
          },
          "execution_count": 34
        }
      ]
    },
    {
      "cell_type": "code",
      "metadata": {
        "id": "DTdajlYBwkSt",
        "colab": {
          "base_uri": "https://localhost:8080/",
          "height": 34
        },
        "outputId": "e8d1e759-fd71-49f2-d8d7-d217b7980c61"
      },
      "source": [
        "def factorial(num):\n",
        "  fact=1\n",
        "  for i in range (1,num+1):\n",
        "    fact=fact*i\n",
        "  return fact #porque lo ncesito\n",
        "\n",
        "def combinatoria(n,m):\n",
        "  factorialN=factorial(n) #4\n",
        "  factorialM=factorial(m) #2\n",
        "  factorialNM=factorial(n-m) #2\n",
        "  resultado=factorialN/(factorialM*factorialNM)\n",
        "  print(resultado)\n",
        "\n",
        "combinatoria(5,3)"
      ],
      "execution_count": null,
      "outputs": [
        {
          "output_type": "stream",
          "text": [
            "6.0\n"
          ],
          "name": "stdout"
        }
      ]
    },
    {
      "cell_type": "code",
      "metadata": {
        "colab": {
          "base_uri": "https://localhost:8080/"
        },
        "id": "QzGUAg1e7dZN",
        "outputId": "4857457d-5c5e-4424-e2c1-a4e8a318a7e7"
      },
      "source": [
        "import math\n",
        "def esPrimo(n):\n",
        "  if n%2==0:\n",
        "    return False\n",
        "  i=3\n",
        "  while i<=math.sqrt(i):\n",
        "    if n%i==0:\n",
        "      return False\n",
        "    i=i+2\n",
        "  return True\n",
        "\n",
        "a=esPrimo(2)\n",
        "print(a)\n"
      ],
      "execution_count": null,
      "outputs": [
        {
          "output_type": "stream",
          "text": [
            "False\n"
          ],
          "name": "stdout"
        }
      ]
    },
    {
      "cell_type": "code",
      "metadata": {
        "colab": {
          "base_uri": "https://localhost:8080/"
        },
        "id": "GjhZ4Bdp8dMN",
        "outputId": "8a24d544-5456-48bd-af8d-4295edd6e6b8"
      },
      "source": [
        "def comienzaCon(x):\n",
        "  pd=x\n",
        "  while pd>9:\n",
        "    pd=pd//10\n",
        "  return pd\n",
        "\n",
        "a=comienzaCon(2785)\n",
        "print(a)"
      ],
      "execution_count": null,
      "outputs": [
        {
          "output_type": "stream",
          "text": [
            "2\n"
          ],
          "name": "stdout"
        }
      ]
    },
    {
      "cell_type": "code",
      "metadata": {
        "colab": {
          "base_uri": "https://localhost:8080/"
        },
        "id": "AgxoVkpD9gnE",
        "outputId": "583de319-79f7-4d12-bd1f-514054376d02"
      },
      "source": [
        "def mcd(x,y):\n",
        "  res=x%y\n",
        "  while res!=0:\n",
        "    x=y\n",
        "    y=res \n",
        "    res=x%y\n",
        "  return y\n",
        "\n",
        "def mcm(x,y):\n",
        "  return x*y//mcd(x,y)\n",
        "  \n",
        "b=mcd(30,42)\n",
        "print(b)"
      ],
      "execution_count": null,
      "outputs": [
        {
          "output_type": "stream",
          "text": [
            "6\n"
          ],
          "name": "stdout"
        }
      ]
    },
    {
      "cell_type": "code",
      "metadata": {
        "id": "J-GFVYLHCFqA"
      },
      "source": [
        "def construyeVector(V, n):\n",
        "   V[0] = n\n",
        "   for i in range(1, n + 1):\n",
        "      V[i] = random.randint(1, 99)\n"
      ],
      "execution_count": null,
      "outputs": []
    },
    {
      "cell_type": "code",
      "metadata": {
        "id": "EOlfxaYDgtz5"
      },
      "source": [
        "def imprimeVector(V, mensaje = \"Vector sin nombre\"):\n",
        "   print(\"\\n\", mensaje, end=\" \")\n",
        "   m = V[0] + 1\n",
        "   for i in range(1, m):\n",
        "            print(V[i], end = \", \")"
      ],
      "execution_count": null,
      "outputs": []
    },
    {
      "cell_type": "code",
      "metadata": {
        "id": "GJU1l1Smh1DN"
      },
      "source": [
        "def sumaVector(V):\n",
        "    n = V[0] + 1\n",
        "    s = 0\n",
        "    for i in range(1, n):\n",
        "         s = s + V[i]\n",
        "    return s"
      ],
      "execution_count": null,
      "outputs": []
    },
    {
      "cell_type": "code",
      "metadata": {
        "id": "rVCKu19Vh9RO"
      },
      "source": [
        "def esVacio(V):\n",
        "  if V[0] == 0:\n",
        "    return True\n",
        "  return False\n",
        "\n",
        "def esLleno(V, n):\n",
        "  if V[0] == n:\n",
        "    return True\n",
        "  return False\n"
      ],
      "execution_count": null,
      "outputs": []
    },
    {
      "cell_type": "code",
      "metadata": {
        "id": "ZODGqVXQisBn"
      },
      "source": [
        "def agregarDato(d, V, n):\n",
        "    if esLleno(V, n):\n",
        "        return\n",
        "    V[0] = V[0]+1\n",
        "    V[V[0]] = d"
      ],
      "execution_count": null,
      "outputs": []
    },
    {
      "cell_type": "code",
      "metadata": {
        "id": "ErtCRFD6XQry"
      },
      "source": [
        "import random\n",
        "\n",
        "def construyeVector(V, n, rango):\n",
        "    V[0] = n\n",
        "    for i in range(1, n + 1):\n",
        "         V[i] = random.randint(1, rango)\n",
        "\n",
        "def imprimeVector(V, mensaje = \"vector sin nombre: \\t\"):\n",
        "    print(\"\\n\",mensaje, end=\" \")\n",
        "    m = V[0] + 1\n",
        "    for i in range(1, m):\n",
        "          print(V[i], end = \", \")\n",
        "    print()\n",
        "\n",
        "def agregarDato(d, V, n):\n",
        "    if esLleno(V, n):\n",
        "         return\n",
        "    V[0] = V[0] + 1\n",
        "    V[V[0]] = d\n",
        "\n",
        "def intercambie(V, a, b):\n",
        "     aux = V[a]\n",
        "    V[a] = V[b]\n",
        "    V[b] = aux\n",
        "\n",
        "def sumaVector(V):\n",
        "    n = V[0] + 1\n",
        "    s = 0\n",
        "    for i in range(1, n):\n",
        "         s = s + V[i]\n",
        "    return s\n",
        "\n",
        "def mayorDato(V):\n",
        "    mayor = 1\n",
        "    for i in range(2, V[0] + 1):\n",
        "         if V[i] > V[mayor]:\n",
        "              mayor = i\n",
        "    return mayor\n",
        "\n",
        "def menorDato(V):\n",
        "     menor = 1\n",
        "    for i in range(2, V[0] + 1):\n",
        "         if V[i] < V[menor]:\n",
        "              menor = i\n",
        "    return menor\n",
        "\n",
        "def insertarDato(d, i, V, n):\n",
        "    if esLleno(V, n):\n",
        "         return\n",
        "    for j in range(V[0], i – 1, –1):\n",
        "          V[j + 1] = V[j]\n",
        "     V[i] = d\n",
        "     V[0] = V[0] + 1\n",
        "\n",
        "def borrarDatoEnPosicion(i, V):\n",
        "     for j in range(i, V[0]):\n",
        "          V[j] = V[j + 1]\n",
        "     V[0] = V[0] – 1\n",
        "\n",
        "def borrarDato(d, V):\n",
        "     i = buscarDato(d, V)\n",
        "     if i != –1:\n",
        "          borrarDatoEnPosicion(i, V)\n",
        "\n",
        "def buscarDato(d, V):\n",
        "     i = 1\n",
        "     while i <= V[0] and V[i] != d:\n",
        "           i = i + 1\n",
        "     if i <= V[0]:\n",
        "          return i\n",
        "    return –1\n",
        "\n",
        "def esLleno(V, n):\n",
        "     if V[0] == n:\n",
        "          return True\n",
        "     return False\n",
        "\n",
        "def esVacio(V):\n",
        "     if V[0] == 0:\n",
        "          return True\n",
        "     return False\n",
        "\n",
        "def ordenaAscen(V):\n",
        "    nn = V[0] + 1\n",
        "    for i in range(1, V[0]):\n",
        "         k = i\n",
        "         for j in range(I + 1, nn):\n",
        "              if V[j] < V[k]:\n",
        "                   k = j\n",
        "    intercambie(V, i, k)\n",
        "\n"
      ],
      "execution_count": null,
      "outputs": []
    },
    {
      "cell_type": "markdown",
      "metadata": {
        "id": "I884bM4WXmZ4"
      },
      "source": [
        "# Matrices"
      ]
    },
    {
      "cell_type": "code",
      "metadata": {
        "id": "0aOZfGFHXjTK"
      },
      "source": [
        "# MATRICES\n",
        "\n",
        "def construyeMatriz(self, r = 100):\n",
        "       for i in range(1, self.m + 1):\n",
        "             for j in range(1, self.n +1):\n",
        "                      self.mat[i][j] = random.randint(1, r)\n",
        "\n",
        "def sumarFilas(self):\n",
        "      for i in range(1, self.m + 1):\n",
        "           s = 0\n",
        "          for j in range(1, self.n + 1):\n",
        "                 s = s + self.mat[i][j]\n",
        "          print(“El total de la fila “, i, “ es: “, s)\n",
        "\n",
        "def sumarColumnas(self):\n",
        "       v = vector(self.n)\n",
        "       for i in range(1, self.n + 1):\n",
        "             s = 0\n",
        "             for j in range(1, self.m + 1):\n",
        "                   s = s + self.mat[j][i]\n",
        "                  v.agregarDato(s)\n",
        "      return v\n",
        "\n",
        "def __add__(self, b):\n",
        "       c = matriz(self.m, self.n)\n",
        "       if self.m != b.m or self.n != b.n:\n",
        "               print(\"Matrices no se pueden sumar. Son de dimensiones diferentes\")\n",
        "               return c\n",
        "       for i in range(1, self.m + 1):\n",
        "               for j in range(1, self.n + 1):\n",
        "              c.mat[i][j] = self.mat[i][j] + b.mat[i][j]\n",
        "      return c\n",
        "\n",
        "def intercambiarFilas(self, i, j):\n",
        "       for k in range(1, self.n):\n",
        "              aux = self.mat[i][k]\n",
        "              self.mat[i][k] = self.mat[j][k]\n",
        "              self.mat[j][k] = aux\n",
        "\n",
        "def intercambiarColumnas(self, i, j):\n",
        "       for k in range(1, self.m):\n",
        "               aux = self.mat[k][i]\n",
        "               self.mat[k][j] = self.mat[k][i]\n",
        "               self.mat[k][i] = aux\n",
        "\n",
        "def traspuesta(self):\n",
        "        c = matriz(self.n, self.m)\n",
        "        for i in range(1, self.m + 1):\n",
        "                for j in range(1, b.n + 1):\n",
        "                         c.mat[j][i] = self.mat[i][j]\n",
        "        return c\n",
        "\n",
        "def __mul__(self, b):\n",
        "      c = matriz(self.m, b.n)\n",
        "      if self.n != b.m:\n",
        "               print(\"Matrices no se pueden multiplicar. \", end = \"\")\n",
        "               print(\"el número de columnas de self es diferente del número de columnas de b\")\n",
        "               return c\n",
        "       for i in range(1, self.m + 1):\n",
        "              for j in range(1, b.n + 1):\n",
        "                       c.mat[i][j] = 0\n",
        "                       for k in range(1, self.n + 1):\n",
        "                                     c.mat[i][j] = c.mat[i][j] + self.mat[i][k] * b.mat[k][j]\n",
        "       return  c\n",
        "\n",
        "def sumaTriangularInferior(self):\n",
        "           s = 0\n",
        "           for i in range(1, self.m + 1):\n",
        "                   for j in range(1, I + 1):\n",
        "                             s = s + self.mat[i][j]\n",
        "          return s\n",
        "\n",
        "def sumaTriangularEstrictamenteInferior(self):\n",
        "          s = 0\n",
        "          for i in range(2, self.m + 1):\n",
        "                  for j in range(1, i):\n",
        "                           s = s + self.mat[i][j]\n",
        "          return \n",
        "\n",
        "\n",
        "def sumaTriangularSuperior(self):\n",
        "        s = 0\n",
        "        for i in range(1, self.m + 1):\n",
        "                  for j in range(i, self.n + 1):\n",
        "                           s = s + self.mat[i][j]\n",
        "        return s\n",
        "\n",
        "def sumaTriangularEstrictamenteSuperior(self):\n",
        "       s = 0\n",
        "       for i in range(1, self.m):\n",
        "               for j in range(I + 1, self.n + 1):\n",
        "                        s = s + self.mat[i][j]\n",
        "       return s"
      ],
      "execution_count": null,
      "outputs": []
    },
    {
      "cell_type": "code",
      "metadata": {
        "colab": {
          "base_uri": "https://localhost:8080/"
        },
        "id": "lXeiaLrvLspF",
        "outputId": "47206827-bf02-4408-e903-6d28a98adfcf"
      },
      "source": [
        "m1=[[8,5,21,4],[4,6,12,2],[9,2,4,35],[7,16,28,39]]\n",
        "print(m1)"
      ],
      "execution_count": null,
      "outputs": [
        {
          "output_type": "stream",
          "text": [
            "[[8, 5, 21, 4], [4, 6, 12, 2], [9, 2, 4, 35], [7, 16, 28, 39]]\n"
          ],
          "name": "stdout"
        }
      ]
    },
    {
      "cell_type": "code",
      "metadata": {
        "colab": {
          "base_uri": "https://localhost:8080/"
        },
        "id": "7YoJrV7o8Gzj",
        "outputId": "41a4a092-13fa-4783-9873-8b47b908d2c9"
      },
      "source": [
        "# crear matriz vacia 3x3\n",
        "ma=[]\n",
        "for i in range (3):\n",
        "  a=[0]*3\n",
        "  ma.append(a)\n",
        "ma"
      ],
      "execution_count": null,
      "outputs": [
        {
          "output_type": "execute_result",
          "data": {
            "text/plain": [
              "[[0, 0, 0], [0, 0, 0], [0, 0, 0]]"
            ]
          },
          "metadata": {
            "tags": []
          },
          "execution_count": 6
        }
      ]
    },
    {
      "cell_type": "code",
      "metadata": {
        "colab": {
          "base_uri": "https://localhost:8080/"
        },
        "id": "W8z3ttRHNZvS",
        "outputId": "9d5f6ad8-3588-493c-e21b-8093d7ad4733"
      },
      "source": [
        "# \n",
        "m1=[[8,5,21,4],[4,6,12,2],[9,2,4,35]]\n",
        "n=len(m1)  #n filas y para columnas es acceder a una fila: col=len(m1[0])\n",
        "for i in range (0,n): #filas\n",
        "  for j in range(0,n): #longitud de una fila=columnas\n",
        "    #print(m1[i][j], end=\" \")\n",
        "    print(m1[i][j], end=\"\\t\")\n",
        "  print()"
      ],
      "execution_count": null,
      "outputs": [
        {
          "output_type": "stream",
          "text": [
            "8\t5\t21\t\n",
            "4\t6\t12\t\n",
            "9\t2\t4\t\n"
          ],
          "name": "stdout"
        }
      ]
    },
    {
      "cell_type": "code",
      "metadata": {
        "colab": {
          "base_uri": "https://localhost:8080/"
        },
        "id": "kaemI9eDnit0",
        "outputId": "a20bdb9b-2c08-4f19-9464-4bf3ea6a3b68"
      },
      "source": [
        "# \n",
        "m1=[[8,5,21,4],[4,6,12,2],[9,2,4,35]]\n",
        "n=len(m1)  \n",
        "lista=[]\n",
        "for i in range (0,n): \n",
        "  for j in range(0,n): \n",
        "    if (i>=j): #if (i==j): if (i<=j):\n",
        "      print(m1[i][j], end=\"\\t\")\n",
        "      lista.append(m1[i][j])\n",
        "  print()\n",
        "lista"
      ],
      "execution_count": null,
      "outputs": [
        {
          "output_type": "stream",
          "text": [
            "8\t\n",
            "4\t6\t\n",
            "9\t2\t4\t\n"
          ],
          "name": "stdout"
        },
        {
          "output_type": "execute_result",
          "data": {
            "text/plain": [
              "[8, 4, 6, 9, 2, 4]"
            ]
          },
          "metadata": {
            "tags": []
          },
          "execution_count": 5
        }
      ]
    },
    {
      "cell_type": "code",
      "metadata": {
        "colab": {
          "base_uri": "https://localhost:8080/"
        },
        "id": "R2_Ym1EervwJ",
        "outputId": "c1d262b2-40fa-440f-8a84-5d13ca4dc5d8"
      },
      "source": [
        "m1=[[8,5,21,4],[4,6,12,2],[9,2,4,35]]\n",
        "n=len(m1)  \n",
        "suma=0\n",
        "con=0\n",
        "for i in range (0,n): \n",
        "  for j in range(0,n): \n",
        "    if (i>=j): #if (i==j): if (i<=j):\n",
        "      suma+=m1[i][j]\n",
        "    if (m1[i][j]%2==0):\n",
        "      con+=1\n",
        "      \n",
        "print(\"Suma\", suma)\n",
        "print(\"pares\", con)"
      ],
      "execution_count": null,
      "outputs": [
        {
          "output_type": "stream",
          "text": [
            "Suma 33\n",
            "pares 6\n"
          ],
          "name": "stdout"
        }
      ]
    },
    {
      "cell_type": "code",
      "metadata": {
        "colab": {
          "base_uri": "https://localhost:8080/"
        },
        "id": "uT6JDP2BNZ_L",
        "outputId": "1a7b384b-2242-4ccc-8e71-d9af39691ffa"
      },
      "source": [
        "import random\n",
        "mat=[ [1,2],[3,4],[5,6],[7,8] ]\n",
        "# lista=[5,8,10]\n",
        "mat2=[]\n",
        "for i in range(3):\n",
        "    a=[0]*2\n",
        "    mat2.append(a)\n",
        "\n",
        "for i in range(0,len(mat2)):\n",
        "    for k in range(0,len(mat2[0])):\n",
        "        # print(mat2[i][k],end=\"\")\n",
        "        mat2[i][k]=random.randint(1,10)\n",
        "    print(\"\")\n",
        "\n",
        "print(mat2)\n",
        "# print(len(mat2[0]))\n"
      ],
      "execution_count": null,
      "outputs": [
        {
          "output_type": "stream",
          "text": [
            "\n",
            "\n",
            "\n",
            "[[10, 4], [6, 5], [3, 3]]\n"
          ],
          "name": "stdout"
        }
      ]
    },
    {
      "cell_type": "markdown",
      "metadata": {
        "id": "CtrpiGUe8GZB"
      },
      "source": [
        "#Arreglos\n",
        "\n"
      ]
    },
    {
      "cell_type": "code",
      "metadata": {
        "id": "QFl5P-6d8I9Z",
        "colab": {
          "base_uri": "https://localhost:8080/",
          "height": 136
        },
        "outputId": "34786ed2-3a9c-43ab-cda3-3fefcc9432fb"
      },
      "source": [
        "vect=[2,3,5,7,23,89,1]\n",
        "for i in vect:\n",
        "  print(i)"
      ],
      "execution_count": null,
      "outputs": [
        {
          "output_type": "stream",
          "text": [
            "2\n",
            "3\n",
            "5\n",
            "7\n",
            "23\n",
            "89\n",
            "1\n"
          ],
          "name": "stdout"
        }
      ]
    },
    {
      "cell_type": "code",
      "metadata": {
        "id": "vKwPT6tm8rGn",
        "colab": {
          "base_uri": "https://localhost:8080/",
          "height": 136
        },
        "outputId": "1eb7195c-4130-47b7-817e-8a03bac119f3"
      },
      "source": [
        "for i in range(len(vect)):\n",
        "  print(i, vect[i])"
      ],
      "execution_count": null,
      "outputs": [
        {
          "output_type": "stream",
          "text": [
            "0 2\n",
            "1 3\n",
            "2 5\n",
            "3 7\n",
            "4 23\n",
            "5 89\n",
            "6 1\n"
          ],
          "name": "stdout"
        }
      ]
    },
    {
      "cell_type": "code",
      "metadata": {
        "id": "rF03w8OO9dkY",
        "colab": {
          "base_uri": "https://localhost:8080/",
          "height": 85
        },
        "outputId": "04d73efc-89aa-4150-bcf8-eef9bd5c9788"
      },
      "source": [
        "listaNotas=[0.1,3.0, 4.5,3.5] #LISTAS DEL MISMO TAMAÑO\n",
        "Estudiantes=[\"Maria\",\"MP\",\"HP\",\"LP\",]\n",
        "for i in range(len(listaNotas)):\n",
        "  print(i, Estudiantes[i], listaNotas[i])"
      ],
      "execution_count": null,
      "outputs": [
        {
          "output_type": "stream",
          "text": [
            "0 Maria 0.1\n",
            "1 MP 3.0\n",
            "2 HP 4.5\n",
            "3 LP 3.5\n"
          ],
          "name": "stdout"
        }
      ]
    },
    {
      "cell_type": "code",
      "metadata": {
        "id": "ElMW34wH-dXc",
        "colab": {
          "base_uri": "https://localhost:8080/",
          "height": 34
        },
        "outputId": "ef0cb9ea-e606-4b4a-afa6-96a6a4d6b0ae"
      },
      "source": [
        "Estudiantes.append(\"Laura\") #Adiciona elemento al final\n",
        "print(Estudiantes)"
      ],
      "execution_count": null,
      "outputs": [
        {
          "output_type": "stream",
          "text": [
            "['Maria', 'MP', 'HP', 'LP', 'Laura']\n"
          ],
          "name": "stdout"
        }
      ]
    },
    {
      "cell_type": "code",
      "metadata": {
        "id": "qd4i6z2g_7bL",
        "colab": {
          "base_uri": "https://localhost:8080/",
          "height": 34
        },
        "outputId": "7f0e071f-22dc-4288-ff8f-3204b1f30bdb"
      },
      "source": [
        "Estudiantes.remove(\"Maria\") \n",
        "print(Estudiantes)"
      ],
      "execution_count": null,
      "outputs": [
        {
          "output_type": "stream",
          "text": [
            "['MP', 'HP', 'LP', 'Laura']\n"
          ],
          "name": "stdout"
        }
      ]
    },
    {
      "cell_type": "code",
      "metadata": {
        "id": "w-1RJWa4AcpI",
        "colab": {
          "base_uri": "https://localhost:8080/",
          "height": 34
        },
        "outputId": "e5e225fd-f30e-4eff-faf7-15f4774bfde6"
      },
      "source": [
        "Estudiantes.pop(2) #borra la posicion\n",
        "print(Estudiantes)"
      ],
      "execution_count": null,
      "outputs": [
        {
          "output_type": "stream",
          "text": [
            "['MP', 'HP', 'Laura']\n"
          ],
          "name": "stdout"
        }
      ]
    },
    {
      "cell_type": "code",
      "metadata": {
        "id": "CoFs2TJiBdn3",
        "colab": {
          "base_uri": "https://localhost:8080/"
        },
        "outputId": "3aaac58e-0c79-4f01-ab12-61029c55183e"
      },
      "source": [
        "listaEstu=[]\n",
        "for i in range(6):\n",
        "  nombre=input(\"Digite un nombre: \")\n",
        "  listaEstu.append(nombre)\n",
        "\n",
        "print(listaEstu)"
      ],
      "execution_count": null,
      "outputs": [
        {
          "output_type": "stream",
          "text": [
            "Digite un nombre: aaa\n",
            "Digite un nombre: bbb\n",
            "Digite un nombre: ccc\n",
            "Digite un nombre: ddd\n",
            "Digite un nombre: eee\n",
            "Digite un nombre: ggg\n",
            "['aaa', 'bbb', 'ccc', 'ddd', 'eee', 'ggg']\n"
          ],
          "name": "stdout"
        }
      ]
    },
    {
      "cell_type": "code",
      "metadata": {
        "colab": {
          "base_uri": "https://localhost:8080/"
        },
        "id": "kHpYG7JD05q5",
        "outputId": "10e238c4-ab30-44cf-f057-08eb9a5e91e4"
      },
      "source": [
        "n=4\n",
        "\n",
        "fact=1\n",
        "for i in range (1, n+1, 1): #inicio=1, fin<=10 increm 1\n",
        "  fact=fact*i\n",
        "print(fact)\n",
        "  \n",
        "#for i in range (1, 10, 1): #inicio=1, fin<=10 increm 1\n",
        "  #print(i,\"hola\")\n"
      ],
      "execution_count": null,
      "outputs": [
        {
          "output_type": "stream",
          "text": [
            "24\n"
          ],
          "name": "stdout"
        }
      ]
    },
    {
      "cell_type": "markdown",
      "metadata": {
        "id": "pMf5G3qMPBr4"
      },
      "source": [
        "fibonacci\n"
      ]
    },
    {
      "cell_type": "code",
      "metadata": {
        "colab": {
          "base_uri": "https://localhost:8080/"
        },
        "id": "Zzx9Nd-DPDw_",
        "outputId": "88128fcd-3ab7-4b93-c154-24007b886268"
      },
      "source": [
        "n=10\n",
        "v=[0]*n\n",
        "v[0]=0\n",
        "v[1]=1\n",
        "for i in range (2,n) :\n",
        "  v[i]=v[i-1]+v[i-2]\n",
        "  #print(v[i])\n",
        "v"
      ],
      "execution_count": null,
      "outputs": [
        {
          "output_type": "execute_result",
          "data": {
            "text/plain": [
              "[0, 1, 1, 2, 3, 5, 8, 13, 21, 34]"
            ]
          },
          "metadata": {
            "tags": []
          },
          "execution_count": 19
        }
      ]
    },
    {
      "cell_type": "code",
      "metadata": {
        "id": "M1DpuJsUVFw4"
      },
      "source": [
        "a=0\n",
        "b=1\n",
        "sum=0\n",
        "for i in range (0,20):\n",
        "  sum=a+b\n",
        "  a=b\n",
        "  b=sum\n",
        "  print(sum)\n"
      ],
      "execution_count": null,
      "outputs": []
    },
    {
      "cell_type": "markdown",
      "metadata": {
        "id": "O6XyeCgyT4lD"
      },
      "source": [
        "# POO programacion orientada a objetos"
      ]
    },
    {
      "cell_type": "code",
      "metadata": {
        "id": "czWpoHP7ojR9"
      },
      "source": [
        "# contructor\n",
        "def __init__(self, n):\n",
        "    self.n = n      \n",
        "    self.V = [0] * (n + 1)\n",
        "\n",
        "# SELF QUE LA CLASE IDENFIQUE QUE LE PERTENECE A ELLA\n",
        "# self so atributos\n",
        "#para imprimir una tributo, se pone objeto.atributo y ara llamr al metodo es objeto.metodo()\n",
        "\n",
        "# CONSTRUCTOR permite colocar los atributos a la clase, se llama cunado instanciamos la clase"
      ],
      "execution_count": null,
      "outputs": []
    },
    {
      "cell_type": "code",
      "metadata": {
        "id": "-8zey9p9T9qL"
      },
      "source": [
        "import vector from \n",
        "class vector:\n",
        "\n",
        "  def solucion():\n",
        "    vobj=vector(5) #tamaño, siempre\n",
        "    vobj.V[1]=30 # poner el numero\n",
        "    print(vobj.V[1])"
      ],
      "execution_count": null,
      "outputs": []
    },
    {
      "cell_type": "code",
      "metadata": {
        "id": "a6eeYBjmacOl"
      },
      "source": [
        "# VECTOR.PY\n",
        "class vector:\n",
        "\n",
        "    def __init__(self, n):\n",
        "        self.n = n      # self.n de la classe vector que sea igual al atributo que ingreso\n",
        "        self.V = [0] * (n + 1)"
      ],
      "execution_count": null,
      "outputs": []
    },
    {
      "cell_type": "code",
      "metadata": {
        "id": "imLan376ajjD"
      },
      "source": [
        "#PUNTO FINAL.PY\n",
        "\n",
        "from vector import vector\n",
        "# from metodos import *\n",
        "import random\n",
        "import math\n",
        "\n",
        "def construyeVector(vec, m, r1, r2):\n",
        "    vec.V[0] = m\n",
        "    for i in range(1, m + 1):\n",
        "        vec.V[i] = random.randint(r1, r2)\n",
        "\n",
        "def imprimeVector(vec, mensaje=\"vec-n: \\t\"):\n",
        "        print(\"\\n\", mensaje,\"\\n\", end=\"\")\n",
        "        for i in range(1, vec.V[0]+1):\n",
        "            print(vec.V[i], end=\", \")\n",
        "            if i % 30 == 0:\n",
        "                print(\"\\n\", end =\"\")\n",
        "\n",
        "def ordenaAscen(V)\n",
        "      for i in range(1, V[0]):\n",
        "          k = i\n",
        "          for j in range(i+1, V[0] + 1):\n",
        "                if V[j] < V[k]:\n",
        "                    k = j\n",
        "             intercambiar(V, i, k)\n",
        "\n",
        "def buscarDato(d, V):\n",
        "    i = 1\n",
        "    while i <= V[0] and V[i] != d:\n",
        "           i = i + 1\n",
        "    if i <= V[0]:\n",
        "           return i\n",
        "        return -1\n",
        "\n",
        "def busbin(self, d):\n",
        "    inicio = 1\n",
        "    fin = self.V[0]\n",
        "    while inicio <= fin:\n",
        "          mitad = (inicio + fin) // 2\n",
        "          if self.V[mitad] == d:\n",
        "               return mitad\n",
        "          if d < self.V[mitad]:\n",
        "              fin = mitad – 1\n",
        "         else:\n",
        "             inicio = mitad + 1\n",
        "return –1"
      ],
      "execution_count": null,
      "outputs": []
    },
    {
      "cell_type": "code",
      "metadata": {
        "id": "iZED7m6hXJKU",
        "colab": {
          "base_uri": "https://localhost:8080/",
          "height": 69
        },
        "outputId": "97693a87-ab35-414d-8cf9-39393a59107a"
      },
      "source": [
        "\"\"\"Estructura de datos\"\"\"\n",
        "class Vehiculo:\n",
        "    color=\"Negro\"\n",
        "    matricula=\"f22fa\"\n",
        "    gasolina=20\n",
        "    paseactivo=False\n",
        "\n",
        "    def verColor(self):\n",
        "        # print(\"Hola desde verColor\")\n",
        "        print(self.color)\n",
        "        # print(self.gasolina)\n",
        "        # print(self.paseactivo)\n",
        "        # print(self.matricula)\n",
        "\n",
        "    def cambiarColor(self,cl):\n",
        "        self.color=cl\n",
        "\n",
        "\"\"\"fin de estructura de Datos\"\"\"\n",
        "\"\"\"----------------------------\"\"\"\n",
        "\"\"\"PROGRMA PRINCIPAL\"\"\"\n",
        "\n",
        "carro1=Vehiculo()   # el objeto carro, a instanciar a clase vehiculo y se le ingresan los atributos\n",
        "carro1.verColor()\n",
        "carro1.cambiarColor(\"Azul\")\n",
        "carro1.verColor()\n",
        "\n",
        "\"\"\"Asignar valores y mostrar\"\"\"\n",
        "# print(carro1.color,carro1.matricula,carro1.gasolina,carro1.paseactivo)\n",
        "# carro1.color=\"Amarillo\"\n",
        "# carro1.matricula=\"ggg233\"\n",
        "# carro1.gasolina=10\n",
        "# carro1.paseactivo=True\n",
        "#\n",
        "# print(carro1.color,carro1.matricula,carro1.gasolina,carro1.paseactivo)\n",
        "\n",
        "\"\"\"MOSTRAR VARIABLES\"\"\"\n",
        "# print(carro1.color)\n",
        "# print(carro1.matricula)\n",
        "# print(carro1.gasolina)\n",
        "# print(carro1.paseactivo)\n"
      ],
      "execution_count": null,
      "outputs": [
        {
          "output_type": "stream",
          "text": [
            "Negro\n",
            "Azul\n"
          ],
          "name": "stdout"
        },
        {
          "output_type": "execute_result",
          "data": {
            "application/vnd.google.colaboratory.intrinsic+json": {
              "type": "string"
            },
            "text/plain": [
              "'MOSTRAR VARIABLES'"
            ]
          },
          "metadata": {
            "tags": []
          },
          "execution_count": 1
        }
      ]
    },
    {
      "cell_type": "code",
      "metadata": {
        "id": "N3qo0wGMZUH-"
      },
      "source": [
        "class Vehiculo:\n",
        "    color=\"Negro\"\n",
        "    matricula=\"f22fa\"\n",
        "    GasoEnTanq=20\n",
        "    paseactivo=False\n",
        "\n",
        "    #los anteriores datos son estaticos, ahora son dinamicos:\n",
        "    #contructor\n",
        "    def __init__(self,col,matri,gasol,pa):\n",
        "      self.color=col\n",
        "      self.matricula=matri\n",
        "      self.GasoEnTanq=gasol\n",
        "      self.paseactivo=pa\n",
        "    \n",
        "    #mirar rapido los cambios de variables\n",
        "    def __str__(self):\n",
        "      return \"Color: \"+self.color+\"matricula: \"   str(self.gaso)\n",
        "\n",
        "    def verGasolina(self):\n",
        "        print(self.GasoEnTanq)\n",
        "        \n",
        "    def cargarGasolina(self,galonesAcargar):\n",
        "        self.GasoEnTanq=self.GasoEnTanq+galonesAcargar\n",
        "\n",
        "\n",
        "#gasolina\n",
        "#carro1=Vehiculo()\n",
        "#carro1.verGasolina()\n",
        "\n",
        "#carro1.cargarGasolina(5)\n",
        "#carro1.verGasolina()\n",
        "\n",
        "carro1=Vehiculo(\"plateado\",\"ff233\",30,True)\n",
        "carro2=Vehiculo(\"negro\",\"gg233\",10,False)\n",
        "\n",
        "\n"
      ],
      "execution_count": null,
      "outputs": []
    },
    {
      "cell_type": "code",
      "metadata": {
        "colab": {
          "base_uri": "https://localhost:8080/"
        },
        "id": "W1d1IlwUWF1z",
        "outputId": "9a5506a0-28a0-4d6b-eebd-1b6990e54f78"
      },
      "source": [
        "class Cuadrado:\n",
        "  def __init__(self,lado): #recibe parametro, self para usarlo en otro metodos, como global\n",
        "    self.a=lado\n",
        "  def area(self): #no recie arametro\n",
        "    ar=self.a**2\n",
        "    #print(\"el area es: \",ar)\n",
        "    return ar\n",
        "  def perimetro(self):\n",
        "    per=4*self.a\n",
        "    return per\n",
        "  def __str__(self):  \n",
        "    #return \"el cuadrado tiene: \"+str(self.a)\n",
        "    return f\"el cuadrado tiene: {self.a}\"\n",
        "\n",
        "\n",
        "c1=Cuadrado(7)\n",
        "#c1.area()\n",
        "res= c1.area()\n",
        "res\n",
        "print(c1)"
      ],
      "execution_count": null,
      "outputs": [
        {
          "output_type": "execute_result",
          "data": {
            "text/plain": [
              "49"
            ]
          },
          "metadata": {
            "tags": []
          },
          "execution_count": 5
        }
      ]
    },
    {
      "cell_type": "markdown",
      "metadata": {
        "id": "CnFmoKdhkdF4"
      },
      "source": [
        "Herencia\n"
      ]
    },
    {
      "cell_type": "code",
      "metadata": {
        "colab": {
          "base_uri": "https://localhost:8080/"
        },
        "id": "x8C4yrQdke3f",
        "outputId": "cc8e23da-90ac-4c36-bb13-eaacf3a740ea"
      },
      "source": [
        "# clase padre\n",
        "class Empleado:\n",
        "  def __init__(self,nom,id,suel):\n",
        "    self.nombre=nom #dtos que me dieron\n",
        "    self.id=id\n",
        "    self.sueldo=suel\n",
        "\n",
        "  def devolverSueldo(self):\n",
        "    return self.sueldo\n",
        "\n",
        "  def __str__(self):\n",
        "    return f\"nombre:{self.nombre} id: {self.id} sueldo: {self.sueldo}\"\n",
        "\n",
        "# clases hijas - gerente\n",
        "class Gerente(Empleado):\n",
        "  #pass      #par que quede vacio y se pueda ejecutar SOLO PASS\n",
        "  def sueldoGerente(self):\n",
        "    #self.sueldo=self.sueldo+100\n",
        "    #print(self.sueldo)\n",
        "    s1=super().devolverSueldo()+100 # otra manera de acceder a metodos de la case padre\n",
        "    print(s1)\n",
        "\n",
        "\n",
        "#programa principal\n",
        "ger1=Gerente(\"ger1\",\"20\",100)\n",
        "print(ger1)\n",
        "ger1.sueldoGerente()\n",
        "\n"
      ],
      "execution_count": null,
      "outputs": [
        {
          "output_type": "stream",
          "text": [
            "nombre:ger1 id: 20 sueldo: 100\n",
            "200\n"
          ],
          "name": "stdout"
        }
      ]
    },
    {
      "cell_type": "markdown",
      "metadata": {
        "id": "uQY9Auj0pSHc"
      },
      "source": [
        "#listas/vectores"
      ]
    },
    {
      "cell_type": "code",
      "metadata": {
        "colab": {
          "base_uri": "https://localhost:8080/"
        },
        "id": "vzarXOZgpVr8",
        "outputId": "c2795489-4717-420a-c1ee-a6ed5a35e1f2"
      },
      "source": [
        "lista=[1,2,3,4,5]\n",
        "#numero de elementos\n",
        "len(lista)"
      ],
      "execution_count": null,
      "outputs": [
        {
          "output_type": "execute_result",
          "data": {
            "text/plain": [
              "5"
            ]
          },
          "metadata": {
            "tags": []
          },
          "execution_count": 17
        }
      ]
    },
    {
      "cell_type": "code",
      "metadata": {
        "colab": {
          "base_uri": "https://localhost:8080/"
        },
        "id": "yQhPSyj8ug4c",
        "outputId": "1617cdd5-f122-4a34-c83b-fe32e7e9d6c6"
      },
      "source": [
        "n=5\n",
        "lis=[0]*n\n",
        "lis"
      ],
      "execution_count": null,
      "outputs": [
        {
          "output_type": "execute_result",
          "data": {
            "text/plain": [
              "[0, 0, 0, 0, 0]"
            ]
          },
          "metadata": {
            "tags": []
          },
          "execution_count": 13
        }
      ]
    },
    {
      "cell_type": "code",
      "metadata": {
        "colab": {
          "base_uri": "https://localhost:8080/"
        },
        "id": "HDKPNCMEpjnY",
        "outputId": "5a3e94c3-c325-43bc-8283-181210dd07d8"
      },
      "source": [
        "# agregar elemento a la lista\n",
        "lista.append(10)\n",
        "print(lista)"
      ],
      "execution_count": null,
      "outputs": [
        {
          "output_type": "stream",
          "text": [
            "[1, 2, 3, 4, 5, 10]\n"
          ],
          "name": "stdout"
        }
      ]
    },
    {
      "cell_type": "code",
      "metadata": {
        "colab": {
          "base_uri": "https://localhost:8080/"
        },
        "id": "QqNYH3xgp-14",
        "outputId": "d26d9558-5977-4cd9-b3e2-ab2647244a1f"
      },
      "source": [
        "# insetar en una posicion especifica\n",
        "lista.insert(0,11) #posicion 0 y desplaza a l derecha\n",
        "print(lista)"
      ],
      "execution_count": null,
      "outputs": [
        {
          "output_type": "stream",
          "text": [
            "[11, 1, 2, 3, 4, 5, 10]\n"
          ],
          "name": "stdout"
        }
      ]
    },
    {
      "cell_type": "code",
      "metadata": {
        "colab": {
          "base_uri": "https://localhost:8080/"
        },
        "id": "MptL4JCZqv6b",
        "outputId": "0690ae13-302d-48ca-9995-934307891331"
      },
      "source": [
        "lista.pop() #sin argumento quita el ultimo elemento\n",
        "print(lista)"
      ],
      "execution_count": null,
      "outputs": [
        {
          "output_type": "stream",
          "text": [
            "[11, 1, 2, 3, 4, 5]\n"
          ],
          "name": "stdout"
        }
      ]
    },
    {
      "cell_type": "code",
      "metadata": {
        "colab": {
          "base_uri": "https://localhost:8080/"
        },
        "id": "8E1QLV_wrTXW",
        "outputId": "e1b827ca-11ad-4ce3-8f30-2d447a265728"
      },
      "source": [
        "ind=lista.index(11) #devuleve el indice donde esta ese dato\n",
        "#como retorna debo guardar en una variable\n",
        "# si hay cmismos valores, me devuleve el primero\n",
        "ind"
      ],
      "execution_count": null,
      "outputs": [
        {
          "output_type": "execute_result",
          "data": {
            "text/plain": [
              "0"
            ]
          },
          "metadata": {
            "tags": []
          },
          "execution_count": 23
        }
      ]
    },
    {
      "cell_type": "code",
      "metadata": {
        "colab": {
          "base_uri": "https://localhost:8080/"
        },
        "id": "cKLx1rIIr7fD",
        "outputId": "fc4a25df-fb5c-4512-900b-d6d55742f44f"
      },
      "source": [
        "#para contar\n",
        "n=lista.count(4)\n",
        "n"
      ],
      "execution_count": null,
      "outputs": [
        {
          "output_type": "execute_result",
          "data": {
            "text/plain": [
              "1"
            ]
          },
          "metadata": {
            "tags": []
          },
          "execution_count": 24
        }
      ]
    },
    {
      "cell_type": "code",
      "metadata": {
        "colab": {
          "base_uri": "https://localhost:8080/"
        },
        "id": "iDEyoVfKs4HP",
        "outputId": "7f9696b4-e6f6-4b4c-c0df-2c1593054229"
      },
      "source": [
        "lista.reverse()\n",
        "print(lista)"
      ],
      "execution_count": null,
      "outputs": [
        {
          "output_type": "stream",
          "text": [
            "[5, 4, 3, 2, 1, 11]\n"
          ],
          "name": "stdout"
        }
      ]
    },
    {
      "cell_type": "code",
      "metadata": {
        "colab": {
          "base_uri": "https://localhost:8080/"
        },
        "id": "H6_WlWOys_xi",
        "outputId": "8d09cfd0-8b03-44da-c29c-7757b97cd9cd"
      },
      "source": [
        "lista.sort()   #n forma ascendente\n",
        "print(lista)"
      ],
      "execution_count": null,
      "outputs": [
        {
          "output_type": "stream",
          "text": [
            "[1, 2, 3, 4, 5, 11]\n"
          ],
          "name": "stdout"
        }
      ]
    },
    {
      "cell_type": "code",
      "metadata": {
        "colab": {
          "base_uri": "https://localhost:8080/"
        },
        "id": "s0Cn7Lf6tgbY",
        "outputId": "70036d7a-037b-4502-c988-74763f5a0a2c"
      },
      "source": [
        "lista.sort(reverse=True)   #descendente \n",
        "print(lista)"
      ],
      "execution_count": null,
      "outputs": [
        {
          "output_type": "stream",
          "text": [
            "[11, 5, 4, 3, 2, 1]\n"
          ],
          "name": "stdout"
        }
      ]
    },
    {
      "cell_type": "code",
      "metadata": {
        "colab": {
          "base_uri": "https://localhost:8080/"
        },
        "id": "cChNpRTytlyh",
        "outputId": "4bd2f0bd-8cdb-4cf4-8e4f-b5b4782fbae1"
      },
      "source": [
        "lista2=lista.copy()\n",
        "lista2"
      ],
      "execution_count": null,
      "outputs": [
        {
          "output_type": "execute_result",
          "data": {
            "text/plain": [
              "[11, 5, 4, 3, 2, 1]"
            ]
          },
          "metadata": {
            "tags": []
          },
          "execution_count": 32
        }
      ]
    },
    {
      "cell_type": "code",
      "metadata": {
        "colab": {
          "base_uri": "https://localhost:8080/"
        },
        "id": "alBUjiLvuFED",
        "outputId": "2e2a653e-d674-4c45-8793-b988490ab788"
      },
      "source": [
        "lista2.clear()\n",
        "lista2"
      ],
      "execution_count": null,
      "outputs": [
        {
          "output_type": "execute_result",
          "data": {
            "text/plain": [
              "[]"
            ]
          },
          "metadata": {
            "tags": []
          },
          "execution_count": 33
        }
      ]
    },
    {
      "cell_type": "code",
      "metadata": {
        "colab": {
          "base_uri": "https://localhost:8080/"
        },
        "id": "oOM4aHRUwXnw",
        "outputId": "c3921fe0-9bdc-45ea-f5d9-a7dba24e093a"
      },
      "source": [
        "import numpy as np\n",
        "lista=[1,2,3,4,5]\n",
        "vector=np.array(lista)\n",
        "vector"
      ],
      "execution_count": null,
      "outputs": [
        {
          "output_type": "execute_result",
          "data": {
            "text/plain": [
              "array([1, 2, 3, 4, 5])"
            ]
          },
          "metadata": {
            "tags": []
          },
          "execution_count": 22
        }
      ]
    },
    {
      "cell_type": "code",
      "metadata": {
        "colab": {
          "base_uri": "https://localhost:8080/"
        },
        "id": "WCCJ17VczamX",
        "outputId": "0b1febce-6947-4c20-fde7-f4811440b5b6"
      },
      "source": [
        "len(vector)"
      ],
      "execution_count": null,
      "outputs": [
        {
          "output_type": "execute_result",
          "data": {
            "text/plain": [
              "5"
            ]
          },
          "metadata": {
            "tags": []
          },
          "execution_count": 23
        }
      ]
    },
    {
      "cell_type": "markdown",
      "metadata": {
        "id": "gb0QiUtMw5q2"
      },
      "source": [
        "la diferenci entre vector y lista es que el vector se puede hacer operaciones\n"
      ]
    },
    {
      "cell_type": "code",
      "metadata": {
        "colab": {
          "base_uri": "https://localhost:8080/"
        },
        "id": "SwC0h8NaxDJs",
        "outputId": "d230846b-db86-45c9-f319-41b524943597"
      },
      "source": [
        "print(vector*5)"
      ],
      "execution_count": null,
      "outputs": [
        {
          "output_type": "stream",
          "text": [
            "[ 5 10 15 20 25]\n"
          ],
          "name": "stdout"
        }
      ]
    },
    {
      "cell_type": "code",
      "metadata": {
        "colab": {
          "base_uri": "https://localhost:8080/"
        },
        "id": "Wej6x8F9xH-X",
        "outputId": "063048b9-4968-4a3b-e53d-7a5dc5fb0454"
      },
      "source": [
        "print(np.sum(vector))"
      ],
      "execution_count": null,
      "outputs": [
        {
          "output_type": "stream",
          "text": [
            "15\n"
          ],
          "name": "stdout"
        }
      ]
    },
    {
      "cell_type": "code",
      "metadata": {
        "colab": {
          "base_uri": "https://localhost:8080/"
        },
        "id": "w4Z96hpzxgYk",
        "outputId": "0f732555-8494-4dab-bfef-5e6e30ed56be"
      },
      "source": [
        "# ceros\n",
        "vector_ceros=np.zeros(5) #ones\n",
        "vector_ceros"
      ],
      "execution_count": null,
      "outputs": [
        {
          "output_type": "execute_result",
          "data": {
            "text/plain": [
              "array([0., 0., 0., 0., 0.])"
            ]
          },
          "metadata": {
            "tags": []
          },
          "execution_count": 21
        }
      ]
    },
    {
      "cell_type": "code",
      "metadata": {
        "id": "LualQ4owxufq"
      },
      "source": [
        ""
      ],
      "execution_count": null,
      "outputs": []
    },
    {
      "cell_type": "markdown",
      "metadata": {
        "id": "maG0Tbbxd2mu"
      },
      "source": [
        "# Pila y Cola\n",
        "pila LIFO (Last Input First Output)"
      ]
    },
    {
      "cell_type": "code",
      "metadata": {
        "colab": {
          "base_uri": "https://localhost:8080/"
        },
        "id": "rerpMRhHd4r_",
        "outputId": "11ac33ae-1c86-42ec-a2c5-ad117d13b1ee"
      },
      "source": [
        "class Pila:\n",
        "  def __init__(self): #cnstructor\n",
        "    self.items=[] #inicailixar la pila vacia\n",
        "  def apilar(self, item): #recibo el item\n",
        "    self.items.append(item) #agregarlo\n",
        "  def desapilar(self):\n",
        "    if (not self.estaVacia()): #mirar si esta vacia o no\n",
        "      return self.items.pop() #quitar el elmento que esta ariiba de la pila\n",
        "  def cima(self):\n",
        "    if (not self.estaVacia()):\n",
        "      return self.items[len(self.items)-1]\n",
        "  def tamanio(self): #con self llamamos a la lista\n",
        "    return len(self.items)\n",
        "  def estaVacia(self):\n",
        "    if (self.items==[]):\n",
        "      return True\n",
        "    else:\n",
        "      return False\n",
        "  def __str__(self):\n",
        "          return f\"{self.items}\"\n",
        "\n",
        "elem=Pila()  #pila vacia\n",
        "elem.apilar(\"lunes\")\n",
        "elem.apilar(\"martes\")\n",
        "elem.apilar(\"laura\")\n",
        "print(elem)\n",
        "elem.desapilar()\n",
        "print(elem)\n",
        "print(elem.tamanio())\n",
        "print(elem.estaVacia())\n",
        "print(elem.cima())\n"
      ],
      "execution_count": null,
      "outputs": [
        {
          "output_type": "stream",
          "text": [
            "['lunes', 'martes', 'laura']\n",
            "['lunes', 'martes']\n",
            "2\n",
            "False\n",
            "martes\n"
          ],
          "name": "stdout"
        }
      ]
    },
    {
      "cell_type": "markdown",
      "metadata": {
        "id": "oSnjKwvgpQFD"
      },
      "source": [
        "compilador"
      ]
    },
    {
      "cell_type": "code",
      "metadata": {
        "colab": {
          "base_uri": "https://localhost:8080/"
        },
        "id": "w6u2sfiZpN_8",
        "outputId": "135e40b0-1ca5-4884-c2dc-4692214b2064"
      },
      "source": [
        "class Pila:\n",
        "  def __init__(self): #cnstructor\n",
        "    self.items=[] #inicailixar la pila vacia\n",
        "  def apilar(self, item): #recibo el item\n",
        "    self.items.append(item) #agregarlo\n",
        "  def desapilar(self):\n",
        "    if (not self.estaVacia()): #mirar si esta vacia o no\n",
        "      return self.items.pop() #quitar el elmento que esta ariiba de la pila\n",
        "  def cima(self):\n",
        "    if (not self.estaVacia()):\n",
        "      return self.items[len(self.items)-1]\n",
        "  def tamanio(self): #con self llamamos a la lista\n",
        "    return len(self.items)\n",
        "  def estaVacia(self):\n",
        "    if (self.items==[]):\n",
        "      return True\n",
        "    else:\n",
        "      return False\n",
        "  def __str__(self):\n",
        "          return f\"{self.items}\"\n",
        "\n",
        "  ##################################################################3\n",
        "\n",
        "\n",
        "#from Pila import Pila #importo la Clase Pila\n",
        "\n",
        "\"\"\"Verificar cadena de parentesis ()\"\"\"\n",
        "def verificarParentesis(cadenaSimbolos):\n",
        "    p = Pila()\n",
        "    balanceados = True\n",
        "    indice = 0\n",
        "    while indice < len(cadenaSimbolos) and balanceados:\n",
        "        simbolo = cadenaSimbolos[indice]\n",
        "        if simbolo == \"(\":\n",
        "            p.apilar(simbolo)\n",
        "        else:\n",
        "            if p.estaVacia():\n",
        "                balanceados = False\n",
        "            else:\n",
        "                p.desapilar()\n",
        "\n",
        "        indice = indice + 1\n",
        "\n",
        "    if balanceados and p.estaVacia():\n",
        "        return True\n",
        "    else:\n",
        "        return False\n",
        "\n",
        "\"\"\"verificacion completa con {[( \"\"\"\n",
        "def verificarFull(simbolos):\n",
        "    p = Pila()\n",
        "    balanceados = True\n",
        "    indice = 0\n",
        "    while indice < len(simbolos) and balanceados:\n",
        "        simbolo = simbolos[indice]\n",
        "        if simbolo in \"([{\":\n",
        "            p.apilar(simbolo)\n",
        "        else:\n",
        "            if p.estaVacia():\n",
        "                balanceados = False\n",
        "            else:\n",
        "                tope = p.desapilar()\n",
        "                if not parejas(tope,simbolo):\n",
        "                       balanceados = False\n",
        "        indice = indice + 1\n",
        "    if balanceados and p.estaVacia():\n",
        "        return True\n",
        "    else:\n",
        "        return False\n",
        "\n",
        "def parejas(simboloApertura, simboloCierre):\n",
        "    aperturas = \"([{\"\n",
        "    cierres = \")]}\"\n",
        "    return aperturas.index(simboloApertura) == cierres.index(simboloCierre)\n",
        "\n",
        "\n",
        "lp=['(','(',')',')',')']\n",
        "cad=\"(()\"\n",
        "\n",
        "print(verificarParentesis(\"(())\"))\n",
        "print(verificarFull('{{([][])}()}'))"
      ],
      "execution_count": null,
      "outputs": [
        {
          "output_type": "stream",
          "text": [
            "True\n",
            "True\n"
          ],
          "name": "stdout"
        }
      ]
    },
    {
      "cell_type": "markdown",
      "metadata": {
        "id": "M-DaXgGy0Jvc"
      },
      "source": [
        "Cola FIFO (First Input First Output). "
      ]
    },
    {
      "cell_type": "code",
      "metadata": {
        "colab": {
          "base_uri": "https://localhost:8080/"
        },
        "id": "0avE0vQo0LCz",
        "outputId": "9a13a2c8-2d96-45c2-e814-197fad758361"
      },
      "source": [
        "class Cola:\n",
        "    def __init__(self):\n",
        "        self.items = [] #lista vacia\n",
        "\n",
        "    def agregar(self, item):\n",
        "        # self.items.insert(0,item)\n",
        "        self.items.append(item)\n",
        "\n",
        "    def quitar(self):\n",
        "        if(not self.estaVacia()):\n",
        "            # return self.items.pop()\n",
        "            return self.items.pop(0)  #primer elemento sale\n",
        "\n",
        "    def inicioCola(self):\n",
        "        if (not self.estaVacia()):\n",
        "            return self.items[0]\n",
        "\n",
        "    def tamano(self):\n",
        "        return len(self.items)\n",
        "\n",
        "    def estaVacia(self):\n",
        "        return self.items == []\n",
        "\n",
        "    def __str__(self):\n",
        "        return f\"\\n items: {self.items}\"\n",
        "\n",
        "\"\"\"PROGRAMA PRINCIPAL\"\"\"\n",
        "c=Cola()\n",
        "c.agregar(1)\n",
        "c.agregar(2)\n",
        "c.agregar(3)\n",
        "ic=c.inicioCola()\n",
        "print(c.tamano())\n",
        "# print(c.estaVacia())\n",
        "# c.quitar()\n",
        "# c.quitar()\n",
        "# c.quitar()\n",
        "# c.quitar()\n",
        "# print(c.estaVacia())\n",
        "# # print(c.tamano())\n",
        "# # print(c.inicioCola())\n",
        "# print()\n",
        "\n",
        "# c=Cola()\n",
        "# print(c.estaVacia())\n",
        "#\n",
        "# c.agregar(1)\n",
        "\n",
        "# c.agregar(2)\n",
        "# c.agregar(3)\n",
        "#\n",
        "#\n",
        "# c.agregar(4)\n",
        "# print(c)\n",
        "# c.quitar()\n",
        "# print(c)\n",
        "#\n",
        "# c.quitar()\n",
        "#\n",
        "#\n",
        "#\n",
        "# print(c)\n",
        "# c.agregar(5)\n",
        "# print(c)\n",
        "# # print(c.estaVacia())\n",
        "# print(\"tamaño: \",c.tamano())\n",
        "#\n",
        "# print(c.inicioCola())"
      ],
      "execution_count": null,
      "outputs": [
        {
          "output_type": "stream",
          "text": [
            "3\n"
          ],
          "name": "stdout"
        }
      ]
    },
    {
      "cell_type": "code",
      "metadata": {
        "colab": {
          "base_uri": "https://localhost:8080/"
        },
        "id": "ie02hCP__omt",
        "outputId": "c002951d-def6-4f6b-eb57-a94ce3ab1ff1"
      },
      "source": [
        "class Cola:\n",
        "    def __init__(self):\n",
        "        self.items = [] #lista vacia\n",
        "\n",
        "    def agregar(self, item):\n",
        "        # self.items.insert(0,item)\n",
        "        self.items.append(item)\n",
        "\n",
        "    def quitar(self):\n",
        "        if(not self.estaVacia()):\n",
        "            # return self.items.pop()\n",
        "            return self.items.pop(0)  #primer elemento sale\n",
        "\n",
        "    def inicioCola(self):\n",
        "        if (not self.estaVacia()):\n",
        "            return self.items[0]\n",
        "\n",
        "    def tamano(self):\n",
        "        return len(self.items)\n",
        "\n",
        "    def estaVacia(self):\n",
        "        return self.items == []\n",
        "\n",
        "    def __str__(self):\n",
        "        return f\"\\n items: {self.items}\"\n",
        "\n",
        "\n",
        "def tingoTango(listaNombres, N):\n",
        "    colaSimulacion = Cola()\n",
        "    for nombre in listaNombres:\n",
        "        colaSimulacion.agregar(nombre)\n",
        "\n",
        "    while colaSimulacion.tamano() > 1:\n",
        "        for i in range(N):\n",
        "            colaSimulacion.agregar(colaSimulacion.quitar())  #lo quito pero lo agrego\n",
        "\n",
        "        colaSimulacion.quitar()\n",
        "\n",
        "    return colaSimulacion.quitar()\n",
        "\n",
        "\"\"\"PROGRAMA PRINCIPAL\"\"\"\n",
        "print(tingoTango([\"Paola\", \"David\", \"Susan\", \"Diana\"], 2))"
      ],
      "execution_count": null,
      "outputs": [
        {
          "output_type": "stream",
          "text": [
            "Paola\n"
          ],
          "name": "stdout"
        }
      ]
    },
    {
      "cell_type": "code",
      "metadata": {
        "id": "XvIntGRYlrJ8"
      },
      "source": [
        "from Cola import Cola\n",
        "\"\"\"clase Padre\"\"\"\n",
        "class Persona:\n",
        "\n",
        "    def __init__(self, nom,ced):\n",
        "        self.nombre=nom\n",
        "        self.cedula=ced\n",
        "\n",
        "\n",
        "\"\"\"Clase Estudiante - hereda de Persona\"\"\"\n",
        "class Paciente(Persona):\n",
        "\n",
        "    def __init__(self,nom, cedu, ciudad,eps):\n",
        "        super().__init__(nom,cedu)\n",
        "        self.ciudad=ciudad\n",
        "        self.eps=eps\n",
        "\n",
        "    def obtenerCiudad(self):\n",
        "        return self.ciudad\n",
        "\n",
        "    def obtenerEps(self):\n",
        "        return self.eps\n",
        "\n",
        "    def __str__(self):\n",
        "        return f\"{self.nombre, self.cedula, self.ciudad, self.eps}\"\n",
        "\n",
        "\"\"\"PROGRAMA PRINCIPAL\"\"\"\n",
        "\n",
        "\"\"\"Prueba manual\"\"\"\n",
        "\n",
        "pac=Paciente(\"a\", \"10\", \"ipiales\", \"eps1\")\n",
        "est1=Paciente(\"b\", \"11\", \"medellin\", \"eps2\")\n",
        "est2=Paciente(\"c\", \"12\", \"bogota\", \"eps3\")\n",
        "\n",
        "c1=Cola()\n",
        "c1.agregar(pac)\n",
        "c1.agregar(est1)\n",
        "c1.agregar(est2)\n",
        "# c1.quitar()\n",
        "# print(c1.inicioCola())\n",
        "# print(c1.inicioCola().obtenerCiudad())\n",
        "# print(c1.tamano())\n",
        "# print(c1.items)\n",
        "\n",
        "\"\"\"con Menu y ciclo While\"\"\"\n",
        "c=Cola()\n",
        "opc=1\n",
        "\n",
        "\"\"\"Completar lo que debe realizar las  opciones del Menú\"\"\"\n",
        "\n",
        "while (opc!=0):\n",
        "    print(\"--------MENÚ---------- \")\n",
        "    print(\"1- Agregar Paciente a la cola\")\n",
        "    print(\"2- Ver primer Paciente de la cola \")\n",
        "    print(\"3- Atender Paciente\")\n",
        "    print(\"4- Ver cantidad de Pacientes\")\n",
        "    print(\"5- Ver si hay pacientes para atender\")\n",
        "    print(\" - para salir digite cualquier otro número \")\n",
        "    print()\n",
        "\n",
        "    opc=int(input(\"Digite opción: \"))\n",
        "\n",
        "    if(opc==1):\n",
        "        pass #esta debe borrarse\n",
        "        #tip1: leer los 4 datos que tiene el objeto\n",
        "\n",
        "        #tip2: crear un objeto de tipo Paciente()\n",
        "\n",
        "        #tip3: agregar el paciente a la cola\n",
        "\n",
        "\n",
        "\n",
        "    elif (opc==2):\n",
        "        pass\n",
        "        #formato de salida\n",
        "        #El primer paciente es el Señor(a):\n",
        "        # ('a', '10', 'ipiales', 'eps1')\n",
        "        print()\n",
        "    elif (opc==3):\n",
        "        pass #esta debe borrarse\n",
        "        #tip: quitar el elemento de la Cola\n",
        "    elif (opc==4):\n",
        "        pass\n",
        "        #formato de salida\n",
        "        #Hay 2, pacientes en la cola\n",
        "        print()\n",
        "    elif (opc==5):\n",
        "        pass\n",
        "            #Formato de salida\n",
        "            #Si hay Pacientes para atender\n",
        "            #No hay Pacientes para atender\n",
        "\n",
        "    else:\n",
        "        print(\"Gracias por usar nuestro servicio.....\")\n",
        "        break\n"
      ],
      "execution_count": null,
      "outputs": []
    },
    {
      "cell_type": "code",
      "metadata": {
        "id": "UGYtE2x63YEK"
      },
      "source": [
        "class cola(LSL):\n",
        "   def __init__(self):\n",
        "      LSL.__init__(self)\n",
        "\n",
        "   def encolar(self, d):\n",
        "      self.agregarDato(d)\n",
        "\n",
        "   def desencolar(self):\n",
        "     if self.esVacia():\n",
        "          print(\"\\nCola vacía no hay datos para desencolar\")\n",
        "          return None\n",
        "     d = self.primero.retornarDato()\n",
        "          p = self.primerNodo()\n",
        "      self.borrar(p)\n",
        "      return d\n",
        "\n",
        "   def siguiente(self):\n",
        "      if self.esVacia():\n",
        "          print(\"\\nCola vacía no hay siguiente\")\n",
        "          return None\n",
        "      d = self.primero.retornarDato()\n",
        "      return d"
      ],
      "execution_count": null,
      "outputs": []
    },
    {
      "cell_type": "markdown",
      "metadata": {
        "id": "pv22X-Yvn42l"
      },
      "source": [
        "# Nodos (listas enlazadas)"
      ]
    },
    {
      "cell_type": "code",
      "metadata": {
        "id": "mCxxd_kOHat-"
      },
      "source": [
        "class LSL:\n",
        "   def __init__(self): #Constructor\n",
        "      self.primero = None\n",
        "      self.ultimo = None\n",
        "\n",
        "   def primerNodo(self):\n",
        "      return self.primero\n",
        "\n",
        "   def ultimoNodo(self):\n",
        "      return self.ultimo\n",
        "\n",
        "   def esVacia(self):\n",
        "      return self.primero == None\n",
        "\n",
        "   def finDeRecorrido(self, p):\n",
        "      return p == None\n",
        "\n",
        "   def recorrerLista(self):\n",
        "       p = self.primerNodo()\n",
        "       while not self.finDeRecorrido(p):\n",
        "            print(p.retornarDato(), end = \", \")\n",
        "            p = p.retornarLiga()\n",
        "\n",
        "   def agregarDato(self, d):\n",
        "      x = nodoSimple(d)\n",
        "      p = self.primerNodo()\n",
        "       if p == None:\n",
        "             self.primero = x\n",
        "            self.ultimo = x\n",
        "      else:\n",
        "            self.ultimo.liga = x\n",
        "            self.ultimo = x\n",
        "\n",
        "   def buscarDondeInsertar(self, d):\n",
        "      p = self.primerNodo()\n",
        "      y = None\n",
        "      while not self.finDeRecorrido(p) and p.retornarDato() <\n",
        "d:\n",
        "            y = p\n",
        "            p = p.retornarLiga()\n",
        "      return y\n",
        "\n",
        "   def insertar(self, d, y):\n",
        "      x = nodoSimple(d)\n",
        "      self.conectar(x, y)\n",
        "\n",
        "   def conectar(self, x, y):\n",
        "      if y == None:\n",
        "          if self.primero == None:\n",
        "             self.ultimo = x\n",
        "          else:\n",
        "             x.asignarLiga(self.primero)\n",
        "          self.primero = x\n",
        "          return\n",
        "     x.asignarLiga(y.retornarLiga())\n",
        "     y.asignarLiga(x)\n",
        "    if y == self.ultimo:\n",
        "          self.ultimo = x\n",
        "\n",
        "   def longitud(self):\n",
        "      p = self.primerNodo()\n",
        "      n = 0\n",
        "      while not self.finDeRecorrido(p):\n",
        "          n = n + 1\n",
        "          p = p.retornarLiga()\n",
        "      return n\n",
        "\n",
        "   def buscarDato(self, d, y):\n",
        "      x = self.primerNodo()\n",
        "      while not self.finDeRecorrido(x) and x.retornarDato() != d:\n",
        "          y.asignarDato(x)\n",
        "          x = x.retornarLiga()\n",
        "      return x\n",
        "\n",
        "   def borrar(self, x, y = None):\n",
        "      if x == None:\n",
        "          print(\"Dato no está en la lista\")\n",
        "          return\n",
        "      if y == None:\n",
        "          if x != self.primero:\n",
        "                 print(\"Falta el anterior del dato a borrar\")\n",
        "                 return\n",
        "      else:\n",
        "           y = y.retornarDato()\n",
        "      self.desconectar(x, y)\n",
        "\n",
        "   def desconectar(self, x, y):\n",
        "       if y == None:\n",
        "           self.primero = x.retornarLiga()\n",
        "           if self.esVacia():\n",
        "               self.ultimo = None\n",
        "        else:\n",
        "            y.asignarLiga(x.retornarLiga())\n",
        "            if x == self.ultimo:\n",
        "               self.ultimo = y"
      ],
      "execution_count": null,
      "outputs": []
    },
    {
      "cell_type": "code",
      "metadata": {
        "colab": {
          "base_uri": "https://localhost:8080/"
        },
        "id": "q0_ZVns3n7px",
        "outputId": "594d4487-dcf7-47d9-a6da-c5cbbe6af48f"
      },
      "source": [
        "class Nodo():\n",
        "    def __init__(self, dato=None):\n",
        "        self.dato = dato\n",
        "        self.enlace=None\n",
        "\n",
        "    def __str__(self):\n",
        "        return f\" Dato: {self.dato} Enlace:{self.enlace} \"\n",
        "\n",
        "\"\"\"\n",
        "-crear nodos\n",
        "-mostrar con str y directamente\n",
        "-enlazar 2 nodos y mostrar con __str y directo\n",
        "-enlazar 2,3,4 nodos y mostrar con __str y directo\n",
        "-Eliminar un nodo\n",
        "\n",
        "\"\"\"\n",
        "#\n",
        "n1=Nodo(10)\n",
        "n2=Nodo(20)\n",
        "n3=Nodo(30)\n",
        "\n",
        "n2.enlace=n1\n",
        "n3.enlace=n2\n",
        "\n",
        "ultimo=n3  # n3 tiene todos los enlaces conectados\n",
        "\n",
        "while (ultimo!=None):\n",
        "    print(ultimo.dato,end=\" \")\n",
        "    ultimo=ultimo.enlace\n",
        "print()\n",
        "\n",
        "\n",
        "# n2=Nodo(20)\n",
        "#\n",
        "# n3=Nodo(30)\n",
        "#\n",
        "# n4=Nodo(40)\n",
        "# #\n",
        "# n2.enlace=n1\n",
        "#\n",
        "# n3.enlace=n2\n",
        "#\n",
        "# n4.enlace=n3\n",
        "# #\n",
        "# print(n4)\n",
        "# print(n4.enlace.enlace.enlace.enlace)\n",
        "# print(n4)\n",
        "# n3.enlace=n1\n",
        "# print(n4)\n",
        "# print(n2)\n",
        "# n2=None\n",
        "# print(n2)\n",
        "\n",
        "\n",
        "# print(n4)\n",
        "# ultimo=n4\n",
        "while (ultimo!=None):\n",
        "    print(ultimo.dato,end=\" \")\n",
        "    ultimo=ultimo.enlace\n"
      ],
      "execution_count": null,
      "outputs": [
        {
          "output_type": "stream",
          "text": [
            "30 20 10 \n"
          ],
          "name": "stdout"
        }
      ]
    },
    {
      "cell_type": "markdown",
      "metadata": {
        "id": "5T2uq14ycvMZ"
      },
      "source": [
        "# Archivos json/csv\n"
      ]
    },
    {
      "cell_type": "code",
      "metadata": {
        "id": "RyU3TLuwc1Zo"
      },
      "source": [
        "import csv\n",
        "      with open('example.csv', newline='') as File:\n",
        "          reader = csv.reader(File) #  csv.writer\n",
        "          for row in reader:\n",
        "                 print(row"
      ],
      "execution_count": null,
      "outputs": []
    },
    {
      "cell_type": "code",
      "metadata": {
        "id": "93o4VvEaf5J2"
      },
      "source": [
        "import csv\n",
        "with open('name.csv') as csvfile:\n",
        "reader = csv.DictReader(csvfile)\n",
        "for row in reader:\n",
        "      print(row['first_name'], row['last_name'])"
      ],
      "execution_count": null,
      "outputs": []
    },
    {
      "cell_type": "code",
      "metadata": {
        "colab": {
          "base_uri": "https://localhost:8080/"
        },
        "id": "TmoGxKduVmY6",
        "outputId": "6d02ac28-08dd-403e-a38e-dfd0e4e0c9b2"
      },
      "source": [
        "from tabulate import tabulate\n",
        "\n",
        "tabla = [[\"Sol\",696000,1989100000],[\"Tierra\",6371,5973.6],\n",
        "              [\"Luna\",1737,73.5],[\"Marte\",3390,641.85]]\n",
        "print(tabulate(tabla))"
      ],
      "execution_count": null,
      "outputs": [
        {
          "output_type": "stream",
          "text": [
            "------  ------  -------------\n",
            "Sol     696000     1.9891e+09\n",
            "Tierra    6371  5973.6\n",
            "Luna      1737    73.5\n",
            "Marte     3390   641.85\n",
            "------  ------  -------------\n"
          ],
          "name": "stdout"
        }
      ]
    },
    {
      "cell_type": "code",
      "metadata": {
        "colab": {
          "base_uri": "https://localhost:8080/"
        },
        "id": "_4phhueoVyRx",
        "outputId": "0894019f-5878-4915-d374-405c69341f7a"
      },
      "source": [
        "print(tabulate({\"Name\": [\"Alice\", \"Bob\"],\n",
        "                            \"Age\": [24, 19]}, headers=\"keys\"))"
      ],
      "execution_count": null,
      "outputs": [
        {
          "output_type": "stream",
          "text": [
            "Name      Age\n",
            "------  -----\n",
            "Alice      24\n",
            "Bob        19\n"
          ],
          "name": "stdout"
        }
      ]
    },
    {
      "cell_type": "code",
      "metadata": {
        "id": "dzcRMZgRtwry"
      },
      "source": [
        "import csv\n",
        "\n",
        "\"\"\"leer csv\"\"\"\n",
        "\n",
        "archivo=open(\"datosbasicos1.csv\", \"r\")\n",
        "datos=csv.DictReader(archivo,delimiter=\",\") #datos guarda la información del archivo como un diccionario\n",
        "\n",
        "print(datos.fieldnames) #muestra el encabezado\n",
        "\n",
        "print()\n",
        "for i in datos:\n",
        "    # print(i)\n",
        "    print(i[\"nombre\"],end=\" \")\n",
        "    print(i[\"edad\"],end=\" \")\n",
        "    print(i[\"ciudad\"],end=\" \")\n",
        "    print(i[\"n1\"],end=\" \")\n",
        "    print(i[\"n2\"])\n",
        "\n",
        "\n",
        "\"\"\"escribir csv\"\"\"\n",
        "encabezado=[\"nombre\",\"edad\"] #representa la primera fila del archivo\n",
        "datosw=[[\"paola\",25],[\"leonidas\",30],[\"Catalina\",40]] #datos a llenar en el archivo csv\n",
        "\n",
        "\n",
        "#abro el archivo para escribir datos\n",
        "with open(\"datosbasicos12.csv\",\"w\",newline=\"\") as archivo:\n",
        "    escritor=csv.writer(archivo, delimiter=\"\\t\")\n",
        "    escritor.writerow(encabezado)\n",
        "    escritor.writerows(datosw)\n",
        "\n",
        "\"\"\"Leer con delimitacor tab (\\t)\"\"\"\n",
        "# archivo2=open(\"datosbasico2.csv\",\"r\")\n",
        "# datos2=csv.DictReader(archivo2,delimiter=\"\\t\")\n",
        "# print(datos2.fieldnames)\n",
        "#\n",
        "# for i in datos2:\n",
        "#     print(i)\n"
      ],
      "execution_count": null,
      "outputs": []
    },
    {
      "cell_type": "code",
      "metadata": {
        "colab": {
          "base_uri": "https://localhost:8080/"
        },
        "id": "6ccL4t18WTCm",
        "outputId": "d4d4f514-046f-48c0-d4b4-78ff7255782e"
      },
      "source": [
        "import pandas as pd\n",
        "dict = {\"country\": [\"Brazil\", \"Russia\", \"India\", \"China\", \"South Africa\"],\n",
        "\"capital\": [\"Brasilia\", \"Moscow\", \"New Dehli\", \"Beijing\", \"Pretoria\"],\n",
        "\"area\": [8.516, 17.10, 3.286, 9.597, 1.221],\n",
        "\"population\": [200.4, 143.5, 1252, 1357, 52.98] }\n",
        "\n",
        "brics = pd.DataFrame(dict)\n",
        "print(brics)"
      ],
      "execution_count": null,
      "outputs": [
        {
          "output_type": "stream",
          "text": [
            "        country    capital    area  population\n",
            "0        Brazil   Brasilia   8.516      200.40\n",
            "1        Russia     Moscow  17.100      143.50\n",
            "2         India  New Dehli   3.286     1252.00\n",
            "3         China    Beijing   9.597     1357.00\n",
            "4  South Africa   Pretoria   1.221       52.98\n"
          ],
          "name": "stdout"
        }
      ]
    },
    {
      "cell_type": "markdown",
      "metadata": {
        "id": "v2-iC0MEOaWn"
      },
      "source": [
        "JSON JavaScript Object Notation"
      ]
    },
    {
      "cell_type": "markdown",
      "metadata": {
        "id": "KSJuR74HOxZD"
      },
      "source": [
        "es un formato de texto para guardar y modificar diversos tipos de datos (números, hileras, matrices, booleanos…). El proceso para crear un JSON se conoce como serialización, y consiste en codificar un objeto y convertirlo en una secuencia de bytes para almacenarlo en la memoria, en una base de datos o en un archivo, mientras que el proceso inverso.\n",
        "\n",
        "En pocas palabras, la serialización se refiere a escribir información en el disco, mientras que la deserialización consiste en leer en información del disco. "
      ]
    },
    {
      "cell_type": "code",
      "metadata": {
        "id": "rz2ReVTzObvG"
      },
      "source": [
        "import json\n",
        "a = {\"nombre\":\"Gabriel\", \"asignatura\":\"Técnicas\", \"vaPerdiendo\":True,\"notas\": [1, 3.5]}\n",
        "with open('alumnoGabriel.json', 'w') as f:\n",
        "   json.dump(a, f)"
      ],
      "execution_count": null,
      "outputs": []
    },
    {
      "cell_type": "code",
      "metadata": {
        "id": "ldYhUOuTR2V3"
      },
      "source": [
        "al_gabriel = { \"1\":\"Gabriel\",\"asignatura\":\"Técnicas\",\"laVaPerdiendo\":True, \"notasActuales\": [1.0, 3.5]}\n",
        "json_hilera = json.dumps(al_gabriel) #dumps (con s al final, que equivale a s de string) NO REQUIERE SEGUNDO PARAMETRO"
      ],
      "execution_count": null,
      "outputs": []
    },
    {
      "cell_type": "code",
      "metadata": {
        "id": "LcEDGGhjXoKy"
      },
      "source": [
        "json.dump(al_gabriel, f, indent=4)"
      ],
      "execution_count": null,
      "outputs": []
    },
    {
      "cell_type": "markdown",
      "metadata": {
        "id": "rG9ozzOpYG07"
      },
      "source": [
        "El método utilizado para deserializar un string es loads:"
      ]
    },
    {
      "cell_type": "code",
      "metadata": {
        "id": "OBPUa86IYOO-"
      },
      "source": [
        "json_string = \" \" \"\n",
        "{\n",
        "      \"1\": \"Gabriel\",\n",
        "      \"asignatura\": {\n",
        "           \"1\": \"qsq\"\n",
        "      },\n",
        "      \"laVaPerdiendo\": true,\n",
        "      \"notasActuales\": [\n",
        "            1.0,\n",
        "            3.5\n",
        "       ]\n",
        "}\n",
        "\" \" \"\n",
        "d = json.loads(json_string)"
      ],
      "execution_count": null,
      "outputs": []
    },
    {
      "cell_type": "markdown",
      "metadata": {
        "id": "hLDgG7V4XFkd"
      },
      "source": [
        "# Tkinter"
      ]
    },
    {
      "cell_type": "code",
      "metadata": {
        "id": "EEQlHrYCXIyV"
      },
      "source": [
        "pip install future \n",
        "from tkinter import * #Importamos todo lo que contiene la libreria\n",
        "main_window = Tk() #Declaramos e inicializamos la ventana principal\n",
        "main_window.mainloop() #Usamos esta funcion para permitir que la ventana permanezca abierta durante la ejecución. DEBE ESTAR AL FINAL SIEMPRE"
      ],
      "execution_count": null,
      "outputs": []
    },
    {
      "cell_type": "markdown",
      "metadata": {
        "id": "J9A5kvnzXs2f"
      },
      "source": [
        "fRAMES/MARCOS"
      ]
    },
    {
      "cell_type": "code",
      "metadata": {
        "id": "dL0V1HDJXzOm"
      },
      "source": [
        "main_window = Tk()\n",
        "\n",
        "            main_frame = Frame(main_window, bg='#ff0033', height=500, width=500, cursor='dot')\n",
        "            #Declaramos el marco y sus propiedades\n",
        "            main_frame.pack() #Lo instanciamos en la interfaz\n",
        "\n",
        "            main_window.mainloop()"
      ],
      "execution_count": null,
      "outputs": []
    },
    {
      "cell_type": "markdown",
      "metadata": {
        "id": "tenB_faWYOY1"
      },
      "source": [
        "- width => Ancho en pixeles\n",
        "- cursor => El cursor del mouse que se muestra mientras estamos sobre el frame (arrow, dot)\n",
        "- padx y pady => Permiten establecer las márgenes en cantidad de pixeles en el eje x y y.\n",
        "- bg => Color de fondo EJ: Puede ser un color como 'yellow' o puede ser uno en hexagesimal como \"#ff0033\"\n",
        "- height => Altura en pixeles"
      ]
    },
    {
      "cell_type": "code",
      "metadata": {
        "id": "kbKL9PEYhwMT"
      },
      "source": [
        "main_window = Tk()\n",
        "main_frame = Frame(main_window, bg='green', height=500, width=500, padx=50, pady= 50)\n",
        "main_frame.pack()\n",
        "title_label = Label(main_frame, text=\"Hello UI World\", font=('Arial',11)) #Definimos el label y sus              propiedades\n",
        "title_label.pack() #Lo instanciamos en la interfaz\n",
        "body_label1 = Label(main_frame, text=\"Bye\")\n",
        "body_label1.pack()\n",
        "main_window.mainloop()"
      ],
      "execution_count": null,
      "outputs": []
    },
    {
      "cell_type": "markdown",
      "metadata": {
        "id": "IX2h44vDiS-j"
      },
      "source": [
        "- text => Establece el texto de la etiqueta\n",
        "- font => Establece el tipo de letra y el tamaño. Ej: font=('Arial',11)\n",
        "- fg => Establece el color de letra\n",
        "- justify => Nos permite modificar la alineación, los valores posibles - son: LEFT, RIGHT, CENTER."
      ]
    },
    {
      "cell_type": "markdown",
      "metadata": {
        "id": "8OJNojA7jCVV"
      },
      "source": [
        "los labels también pueden contener imágenes"
      ]
    },
    {
      "cell_type": "code",
      "metadata": {
        "id": "u1gtAwqwieLY"
      },
      "source": [
        "main_window = Tk()\n",
        "            main_frame = Frame(main_window, bg='green', height=500, width=500, padx=50, pady=50)\n",
        "            main_frame.pack()\n",
        "            title_label = Label(main_frame, text=\"Hello UI World\", font=('Arial',11))\n",
        "            title_label.pack()\n",
        "            imagen = PhotoImage(file='python-logo.png') #Asignamos una variable al archivo de la imagen\n",
        "            body_label1 = Label(main_frame, image=imagen) #Asignamos la imagen como una propiedad                del label\n",
        "            body_label1.pack()\n",
        "            main_window.mainloop()"
      ],
      "execution_count": null,
      "outputs": []
    },
    {
      "cell_type": "markdown",
      "metadata": {
        "id": "zozFoNhUjdDq"
      },
      "source": [
        "boton"
      ]
    },
    {
      "cell_type": "code",
      "metadata": {
        "id": "W2eb7SjDjbhf"
      },
      "source": [
        "main_window = Tk()\n",
        "            main_frame = Frame(main_window, bg='green', height=500, width=500, padx=50, pady=50)\n",
        "            main_frame.pack()\n",
        "            title_label = Label(main_frame, text=\"Hello UI World\", font=('Arial',11))\n",
        "            title_label.pack()\n",
        "            boton = Button(main_frame, text=\"Hello\") #Declaramos el boton y sus propiedades\n",
        "            boton.pack()\n",
        "            main_window.mainloop()"
      ],
      "execution_count": null,
      "outputs": []
    },
    {
      "cell_type": "code",
      "metadata": {
        "id": "_Mvpp1BfjmUS"
      },
      "source": [
        "def accion(): #Funcion que sera ejecutada por el boton\n",
        "           global boton_text\n",
        "           if boton_text == \"Hello\":\n",
        "               boton_text ='Bye'\n",
        "           else:\n",
        "               boton_text ='Hello'\n",
        "           boton.config(text=boton_text)\n",
        "\n",
        "main_window = Tk()\n",
        "main_frame = Frame(main_window, bg='green', height=500, width=500, padx=50, pady=50)\n",
        "main_frame.pack()\n",
        "title_label = Label(main_frame, text=\"Hello UI World\", font=('Arial',11))\n",
        "title_label.pack()\n",
        "\n",
        "boton_text='Hello'\n",
        "boton = Button(main_frame, text=boton_text, command=accion) #Asignamos la funcion al\n",
        "boton.pack()\n",
        "main_window.mainloop()"
      ],
      "execution_count": null,
      "outputs": []
    },
    {
      "cell_type": "code",
      "metadata": {
        "id": "nf7U1krCkaiP"
      },
      "source": [
        "def accion(mensaje):\n",
        "                  title_label.config(text=mensaje)\n",
        "            main_window = Tk()\n",
        "            main_frame = Frame(main_window, bg='green', height=500, width=500, padx=50, pady=50)\n",
        "            main_frame.pack()\n",
        "            title_label = Label(main_frame, text=\"Hello UI World\", font=('Arial',11))\n",
        "            title_label.pack()\n",
        "            boton_text='Boton'\n",
        "            mensaje = \"Este es un parametro\"\n",
        "            boton = Button(main_frame, text=boton_text, command= lambda: accion(mensaje))\n",
        "            boton.pack()\n",
        "\n",
        "        main_window.mainloop()"
      ],
      "execution_count": null,
      "outputs": []
    },
    {
      "cell_type": "markdown",
      "metadata": {
        "id": "ftknopackgxa"
      },
      "source": [
        "Entradas de texto/Entry"
      ]
    },
    {
      "cell_type": "markdown",
      "metadata": {
        "id": "kmCLullxkzIb"
      },
      "source": [
        "- get() => Nos devuelve el texto que se encuentra en la entrada en ese preciso\n",
        "- momento.delete(inicio,fin) => Nos permite borrar caracteres en el cuadro de texto, se le deben enviar los argumentos para el inicio y final del borrado. Para borrar todo debe escribirse delete(0,END)\n",
        "- insert(indice,string) => Inserta un texto a partir de una posición en el texto.\n",
        "- icursor(indice) => Mueve el cursor de escritura a la posición enviada como parámetro."
      ]
    },
    {
      "cell_type": "code",
      "metadata": {
        "id": "TskZGBpVkkcF"
      },
      "source": [
        "In [9]: def accion():\n",
        "   text = textbox.get()\n",
        "   textbox.delete(0,END)\n",
        "   text_label.config(text=text)\n",
        "\n",
        "main_window = Tk()\n",
        "main_frame = Frame(main_window, bg='green', height=500, width=500, padx=50, pady=50)\n",
        "main_frame.pack()\n",
        "title_label = Label(main_frame, text=\"Hello UI World\", font=('Arial',11))\n",
        "title_label.pack()\n",
        "\n",
        "boton_text='Boton'\n",
        "boton = Button(main_frame, text=boton_text, command= accion)\n",
        "boton.pack()\n",
        "\n",
        "textbox = Entry(main_frame)\n",
        "textbox.pack()\n",
        "text_label = Label(main_frame, bg=\"green\")\n",
        "text_label.pack()\n",
        "        main_window.mainloop()"
      ],
      "execution_count": null,
      "outputs": []
    }
  ]
}